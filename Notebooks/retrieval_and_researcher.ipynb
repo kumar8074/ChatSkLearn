{
 "cells": [
  {
   "cell_type": "markdown",
   "id": "839ff04f",
   "metadata": {},
   "source": [
    "## This Notebook defines the RetrieverGraph which include ResearcherGraph as subGraph\n",
    "* It manages chat history and responds based on fetched documents.\n",
    "* Processes user queries by:\n",
    "    * Determining if the query pertains to “SkLearn” and creating a research plan accordingly.\n",
    "    * Requesting more information if the query is ambiguous.\n",
    "    * Informing the user if the query is unrelated."
   ]
  },
  {
   "cell_type": "code",
   "execution_count": 1,
   "id": "f8183e3c",
   "metadata": {},
   "outputs": [
    {
     "data": {
      "text/plain": [
       "True"
      ]
     },
     "execution_count": 1,
     "metadata": {},
     "output_type": "execute_result"
    }
   ],
   "source": [
    "import os\n",
    "from dotenv import load_dotenv\n",
    "load_dotenv()"
   ]
  },
  {
   "cell_type": "code",
   "execution_count": 2,
   "id": "20b218a6",
   "metadata": {},
   "outputs": [],
   "source": [
    "os.environ[\"GEMINI_API_KEY\"]=os.getenv(\"GOOGLE_API_KEY\")\n"
   ]
  },
  {
   "cell_type": "code",
   "execution_count": 3,
   "id": "531e88fe",
   "metadata": {},
   "outputs": [
    {
     "name": "stdout",
     "output_type": "stream",
     "text": [
      "/Users/sumi/Desktop/skLearnF/Notebooks\n"
     ]
    }
   ],
   "source": [
    "!pwd"
   ]
  },
  {
   "cell_type": "code",
   "execution_count": 4,
   "id": "7a675bba",
   "metadata": {},
   "outputs": [
    {
     "name": "stdout",
     "output_type": "stream",
     "text": [
      "/Users/sumi/Desktop/skLearnF\n"
     ]
    }
   ],
   "source": [
    "os.chdir('../')\n",
    "!pwd"
   ]
  },
  {
   "cell_type": "code",
   "execution_count": 5,
   "id": "b007e3b3",
   "metadata": {},
   "outputs": [
    {
     "data": {
      "text/plain": [
       "AIMessage(content='Hi there! How can I help you today?', additional_kwargs={}, response_metadata={'prompt_feedback': {'block_reason': 0, 'safety_ratings': []}, 'finish_reason': 'STOP', 'model_name': 'gemini-2.0-flash', 'safety_ratings': []}, id='run-4aebec8b-ef03-4eb0-ab19-5cca1faa17ab-0', usage_metadata={'input_tokens': 2, 'output_tokens': 11, 'total_tokens': 13, 'input_token_details': {'cache_read': 0}})"
      ]
     },
     "execution_count": 5,
     "metadata": {},
     "output_type": "execute_result"
    }
   ],
   "source": [
    "from langchain_google_genai import ChatGoogleGenerativeAI\n",
    "from langchain_google_genai import GoogleGenerativeAIEmbeddings\n",
    "\n",
    "embeddings=GoogleGenerativeAIEmbeddings(model=\"models/text-embedding-004\")\n",
    "llm=ChatGoogleGenerativeAI(model=\"gemini-2.0-flash\")\n",
    "\n",
    "llm.invoke(\"Hi!\")"
   ]
  },
  {
   "cell_type": "markdown",
   "id": "75248bfb",
   "metadata": {},
   "source": [
    "## 1. State Schemas for Researcher Graph"
   ]
  },
  {
   "cell_type": "code",
   "execution_count": 6,
   "id": "f6b4d77c",
   "metadata": {},
   "outputs": [],
   "source": [
    "from dataclasses import dataclass, field\n",
    "from typing_extensions import Annotated, Any, Literal, Optional, Union\n",
    "from langchain_core.documents import Document\n",
    "import uuid\n",
    "import hashlib\n",
    "\n",
    "def _generate_uuid(page_content: str) -> str:\n",
    "    \"\"\"Generate a UUID for a document based on page content.\"\"\"\n",
    "    md5_hash = hashlib.md5(page_content.encode()).hexdigest()\n",
    "    return str(uuid.UUID(md5_hash))\n",
    "\n",
    "\n",
    "def reduce_docs(\n",
    "    existing: Optional[list[Document]],\n",
    "    new: Union[\n",
    "        list[Document],\n",
    "        list[dict[str, Any]],\n",
    "        list[str],\n",
    "        str,\n",
    "        Literal[\"delete\"],\n",
    "    ],\n",
    ") -> list[Document]:\n",
    "    \"\"\"Reduce and process documents based on the input type.\n",
    "\n",
    "    This function handles various input types and converts them into a sequence of Document objects.\n",
    "    It can delete existing documents, create new ones from strings or dictionaries, or return the existing documents.\n",
    "    It also combines existing documents with the new one based on the document ID.\n",
    "\n",
    "    Args:\n",
    "        existing (Optional[Sequence[Document]]): The existing docs in the state, if any.\n",
    "        new (Union[Sequence[Document], Sequence[dict[str, Any]], Sequence[str], str, Literal[\"delete\"]]):\n",
    "            The new input to process. Can be a sequence of Documents, dictionaries, strings, a single string,\n",
    "            or the literal \"delete\".\n",
    "    \"\"\"\n",
    "    if new == \"delete\":\n",
    "        return []\n",
    "\n",
    "    existing_list = list(existing) if existing else []\n",
    "    if isinstance(new, str):\n",
    "        return existing_list + [\n",
    "            Document(page_content=new, metadata={\"uuid\": _generate_uuid(new)})\n",
    "        ]\n",
    "\n",
    "    new_list = []\n",
    "    if isinstance(new, list):\n",
    "        existing_ids = set(doc.metadata.get(\"uuid\") for doc in existing_list)\n",
    "        for item in new:\n",
    "            if isinstance(item, str):\n",
    "                item_id = _generate_uuid(item)\n",
    "                new_list.append(Document(page_content=item, metadata={\"uuid\": item_id}))\n",
    "                existing_ids.add(item_id)\n",
    "\n",
    "            elif isinstance(item, dict):\n",
    "                metadata = item.get(\"metadata\", {})\n",
    "                item_id = metadata.get(\"uuid\") or _generate_uuid(\n",
    "                    item.get(\"page_content\", \"\")\n",
    "                )\n",
    "\n",
    "                if item_id not in existing_ids:\n",
    "                    new_list.append(\n",
    "                        Document(**{**item, \"metadata\": {**metadata, \"uuid\": item_id}})\n",
    "                    )\n",
    "                    existing_ids.add(item_id)\n",
    "\n",
    "            elif isinstance(item, Document):\n",
    "                item_id = item.metadata.get(\"uuid\", \"\")\n",
    "                if not item_id:\n",
    "                    item_id = _generate_uuid(item.page_content)\n",
    "                    new_item = item.copy(deep=True)\n",
    "                    new_item.metadata[\"uuid\"] = item_id\n",
    "                else:\n",
    "                    new_item = item\n",
    "\n",
    "                if item_id not in existing_ids:\n",
    "                    new_list.append(new_item)\n",
    "                    existing_ids.add(item_id)\n",
    "\n",
    "    return existing_list + new_list"
   ]
  },
  {
   "cell_type": "code",
   "execution_count": 7,
   "id": "5f1056fc",
   "metadata": {},
   "outputs": [],
   "source": [
    "@dataclass(kw_only=True)\n",
    "class QueryState:\n",
    "    \"Private state for the retrieve_documents node in the researcher graph\"\n",
    "    query: str\n",
    "    \n",
    "  \n",
    "@dataclass(kw_only=True)\n",
    "class ResearcherState:\n",
    "    \"State of the researcher graph\"\n",
    "    question: str\n",
    "    queries: list[str]= field(default_factory=list) \n",
    "    documents: Annotated[list[Document], reduce_docs]=field(default_factory=list)\n",
    "    "
   ]
  },
  {
   "cell_type": "markdown",
   "id": "d2e89123",
   "metadata": {},
   "source": [
    "## 2. Prompt for ResearcherGraph"
   ]
  },
  {
   "cell_type": "code",
   "execution_count": 8,
   "id": "dff2d393",
   "metadata": {},
   "outputs": [],
   "source": [
    "GENERATE_QUERIES_SYSTEM_PROMPT = \"\"\"\\\n",
    "Generate 3 search queries to search for to answer the user's question. \\\n",
    "These search queries should be diverse in nature - do not generate \\\n",
    "repetitive ones.\"\"\""
   ]
  },
  {
   "cell_type": "markdown",
   "id": "8db84fec",
   "metadata": {},
   "source": [
    "## 3. Nodes of ResearcherGraph"
   ]
  },
  {
   "cell_type": "code",
   "execution_count": 9,
   "id": "7f9707a0",
   "metadata": {},
   "outputs": [],
   "source": [
    "from langchain_core.documents import Document\n",
    "from langchain_core.runnables import RunnableConfig\n",
    "from langgraph.graph import StateGraph, START, END\n",
    "from langgraph.types import Send\n",
    "from typing_extensions import TypedDict, cast\n",
    "\n",
    "\n",
    "# Genrate queries node\n",
    "async def generate_queries(\n",
    "    state: ResearcherState, *, config: RunnableConfig\n",
    "    )-> dict[str, list[str]]:\n",
    "    \"\"\"Generate search queries based on the question (a step in the research plan).\"\"\"\n",
    "    \n",
    "    class Response(TypedDict):\n",
    "        queries: list[str]\n",
    "        \n",
    "    model=llm.with_structured_output(Response)\n",
    "    messages=[\n",
    "        {\"role\": \"system\", \"content\": GENERATE_QUERIES_SYSTEM_PROMPT},\n",
    "        {\"role\": \"human\", \"content\": state.question},\n",
    "    ]\n",
    "    response= cast(Response, await model.ainvoke(messages))\n",
    "    return {\"queries\": response[\"queries\"]}\n"
   ]
  },
  {
   "cell_type": "markdown",
   "id": "5e7ad5b6",
   "metadata": {},
   "source": [
    "## 3.1 Creating Retriever"
   ]
  },
  {
   "cell_type": "code",
   "execution_count": 10,
   "id": "0216e5ff",
   "metadata": {},
   "outputs": [],
   "source": [
    "from langchain_chroma import Chroma\n",
    "\n",
    "# Load the persisted directory\n",
    "db = Chroma(persist_directory=\"DATA/chroma_store\",\n",
    "            embedding_function=embeddings)\n",
    "\n",
    "# Convert it into a retriever\n",
    "retriever = db.as_retriever()\n"
   ]
  },
  {
   "cell_type": "code",
   "execution_count": 11,
   "id": "b20ddca8",
   "metadata": {},
   "outputs": [
    {
     "name": "stdout",
     "output_type": "stream",
     "text": [
      "28507\n"
     ]
    }
   ],
   "source": [
    "print(db._collection.count())  # Should return number of vectors stored"
   ]
  },
  {
   "cell_type": "code",
   "execution_count": 12,
   "id": "9a95409b",
   "metadata": {},
   "outputs": [
    {
     "data": {
      "text/plain": [
       "[Document(id='6ff74092-ab0e-4fe8-97b0-1be3a7dc4be2', metadata={'description': 'Choosing the right cross-validation object is a crucial part of fitting a model properly. There are many ways to split data into training and test sets in order to avoid model overfitting, to stand...', 'language': 'en', 'source': 'https://scikit-learn.org/stable/auto_examples/model_selection/plot_cv_indices.html', 'title': 'Visualizing cross-validation behavior in scikit-learn — scikit-learn 1.6.1 documentation'}, page_content='import matplotlib.pyplot as plt\\nimport numpy as np\\nfrom matplotlib.patches import Patch\\n\\nfrom sklearn.model_selection import (\\n    GroupKFold,\\n    GroupShuffleSplit,\\n    KFold,\\n    ShuffleSplit,\\n    StratifiedGroupKFold,\\n    StratifiedKFold,\\n    StratifiedShuffleSplit,\\n    TimeSeriesSplit,\\n)\\n\\nrng = np.random.RandomState(1338)\\ncmap_data = plt.cm.Paired\\ncmap_cv = plt.cm.coolwarm\\nn_splits = 4\\n\\n\\n\\nVisualize our data#\\nFirst, we must understand the structure of our data. It has 100 randomly\\ngenerated input datapoints, 3 classes split unevenly across datapoints,\\nand 10 “groups” split evenly across datapoints.\\nAs we’ll see, some cross-validation objects do specific things with\\nlabeled data, others behave differently with grouped data, and others\\ndo not use this information.\\nTo begin, we’ll visualize our data.\\n# Generate the class/group data\\nn_points = 100\\nX = rng.randn(100, 10)'),\n",
       " Document(id='1f3f80ae-a7f1-430a-adc5-e52be01e2eb4', metadata={'description': 'Choosing the right cross-validation object is a crucial part of fitting a model properly. There are many ways to split data into training and test sets in order to avoid model overfitting, to stand...', 'language': 'en', 'source': 'https://scikit-learn.org/stable/auto_examples/model_selection/plot_cv_indices.html', 'title': 'Visualizing cross-validation behavior in scikit-learn — scikit-learn 1.6.1 documentation'}, page_content='for cv in cvs:\\n    this_cv = cv(n_splits=n_splits)\\n    fig, ax = plt.subplots(figsize=(6, 3))\\n    plot_cv_indices(this_cv, X, y, groups, ax, n_splits)\\n\\n    ax.legend(\\n        [Patch(color=cmap_cv(0.8)), Patch(color=cmap_cv(0.02))],\\n        [\"Testing set\", \"Training set\"],\\n        loc=(1.02, 0.8),\\n    )\\n    # Make the legend fit\\n    plt.tight_layout()\\n    fig.subplots_adjust(right=0.7)\\nplt.show()\\n\\n\\n\\n\\n\\n\\n\\n\\n\\n\\n\\n\\nTotal running time of the script: (0 minutes 1.339 seconds)\\n\\n\\n\\n\\n\\n\\n\\n\\n\\n\\nDownload Jupyter notebook: plot_cv_indices.ipynb\\n\\n\\nDownload Python source code: plot_cv_indices.py\\n\\n\\nDownload zipped: plot_cv_indices.zip\\n\\n\\nRelated examples\\n\\nNested versus non-nested cross-validation\\nNested versus non-nested cross-validation\\n\\nRecursive feature elimination with cross-validation\\nRecursive feature elimination with cross-validation\\n\\nReceiver Operating Characteristic (ROC) with cross validation\\nReceiver Operating Characteristic (ROC) with cross validation'),\n",
       " Document(id='e8b3a7ff-b243-4eab-a3f8-761660f3c5ff', metadata={'description': 'A Recursive Feature Elimination (RFE) example with automatic tuning of the number of features selected with cross-validation. Data generation: We build a classification task using 3 informative fea...', 'language': 'en', 'source': 'https://scikit-learn.org/stable/auto_examples/feature_selection/plot_rfe_with_cross_validation.html', 'title': 'Recursive feature elimination with cross-validation — scikit-learn 1.6.1 documentation'}, page_content='Download zipped: plot_rfe_with_cross_validation.zip\\n\\n\\nRelated examples\\n\\nBalance model complexity and cross-validated score\\nBalance model complexity and cross-validated score\\n\\nCustom refit strategy of a grid search with cross-validation\\nCustom refit strategy of a grid search with cross-validation\\n\\nPipeline ANOVA SVM\\nPipeline ANOVA SVM\\n\\nPost-hoc tuning the cut-off point of decision function\\nPost-hoc tuning the cut-off point of decision function\\nGallery generated by Sphinx-Gallery\\n\\n\\n\\n\\n\\n\\n\\n\\n\\n\\nprevious\\nRecursive feature elimination\\n\\n\\n\\n\\nnext\\nUnivariate Feature Selection\\n\\n\\n\\n\\n\\n\\n\\n\\n\\n\\n\\n On this page\\n  \\n\\n\\nData generation\\nModel training and selection\\nPlot number of features VS. cross-validation scores\\n\\n\\n\\n\\nThis Page\\n\\nShow Source\\n\\n\\n\\n\\n\\n\\n\\n            Download source code\\n          \\n\\n\\n\\n\\n            Download Jupyter notebook\\n          \\n\\n\\n\\n\\n            Download zipped\\n          \\n\\n\\n\\n\\n\\n\\n\\n\\n\\n\\n\\n\\n\\n\\n\\n\\n\\n\\n\\n\\n\\n\\n\\n\\n\\n\\n\\n\\n\\n\\n\\n\\n    \\n      © Copyright 2007 - 2025, scikit-learn developers (BSD License).'),\n",
       " Document(id='468e4127-b6be-4b7c-ab72-1449f8cf0c4a', metadata={'description': 'This examples shows how a classifier is optimized by cross-validation, which is done using the GridSearchCV object on a development set that comprises only half of the available labeled data. The p...', 'language': 'en', 'source': 'https://scikit-learn.org/stable/auto_examples/model_selection/plot_grid_search_digits.html', 'title': 'Custom refit strategy of a grid search with cross-validation — scikit-learn 1.6.1 documentation'}, page_content='Recursive feature elimination with cross-validation\\nRecursive feature elimination with cross-validation\\nGallery generated by Sphinx-Gallery\\n\\n\\n\\n\\n\\n\\n\\n\\n\\n\\nprevious\\nConfusion matrix\\n\\n\\n\\n\\nnext\\nDemonstration of multi-metric evaluation on cross_val_score and GridSearchCV\\n\\n\\n\\n\\n\\n\\n\\n\\n\\n\\n\\n On this page\\n  \\n\\n\\nThe dataset\\nDefine our grid-search strategy\\nTuning hyper-parameters\\n\\n\\n\\n\\nThis Page\\n\\nShow Source\\n\\n\\n\\n\\n\\n\\n\\n            Download source code\\n          \\n\\n\\n\\n\\n            Download Jupyter notebook\\n          \\n\\n\\n\\n\\n            Download zipped\\n          \\n\\n\\n\\n\\n\\n\\n\\n\\n\\n\\n\\n\\n\\n\\n\\n\\n\\n\\n\\n\\n\\n\\n\\n\\n\\n\\n\\n\\n\\n\\n\\n\\n    \\n      © Copyright 2007 - 2025, scikit-learn developers (BSD License).')]"
      ]
     },
     "execution_count": 12,
     "metadata": {},
     "output_type": "execute_result"
    }
   ],
   "source": [
    "retriever.invoke(\"How to perform cross-validation?\")"
   ]
  },
  {
   "cell_type": "code",
   "execution_count": 13,
   "id": "20df4feb",
   "metadata": {},
   "outputs": [],
   "source": [
    "# retrieve documents node\n",
    "async def retrieve_documents(\n",
    "    state: QueryState, *, config: RunnableConfig\n",
    "    )-> dict[str, list[Document]]:\n",
    "    \"\"\"Retrieve documents based on a given query.\"\"\"\n",
    "    \n",
    "    response=await retriever.ainvoke(state.query,config)\n",
    "    return {\"documents\": response}"
   ]
  },
  {
   "cell_type": "code",
   "execution_count": 14,
   "id": "6f90a6f1",
   "metadata": {},
   "outputs": [],
   "source": [
    "# retrieve documents in parallel\n",
    "def retrieve_in_parallel(state: ResearcherState)-> list[Send]:\n",
    "    \"\"\"Create parallel retrieval tasks for each generated query.\"\"\"\n",
    "    return [\n",
    "        Send(\"retrieve_documents\", QueryState(query=query)) for query in state.queries\n",
    "    ]"
   ]
  },
  {
   "cell_type": "markdown",
   "id": "2e3a9d56",
   "metadata": {},
   "source": [
    "## 4. ResearcherGraph definition"
   ]
  },
  {
   "cell_type": "code",
   "execution_count": 16,
   "id": "c76a8d8a",
   "metadata": {},
   "outputs": [
    {
     "data": {
      "image/png": "[encoded data removed]",
      "text/plain": [
       "<langgraph.graph.state.CompiledStateGraph object at 0x11daa2e90>"
      ]
     },
     "execution_count": 16,
     "metadata": {},
     "output_type": "execute_result"
    }
   ],
   "source": [
    "builder = StateGraph(ResearcherState)\n",
    "builder.add_node(generate_queries)\n",
    "builder.add_node(retrieve_documents)\n",
    "builder.add_edge(START, \"generate_queries\")\n",
    "builder.add_conditional_edges(\n",
    "    \"generate_queries\",\n",
    "    retrieve_in_parallel,  # type: ignore\n",
    "    path_map=[\"retrieve_documents\"],\n",
    ")\n",
    "builder.add_edge(\"retrieve_documents\", END)\n",
    "# Compile into a graph object that you can invoke and deploy.\n",
    "researcher_graph = builder.compile()\n",
    "researcher_graph.name = \"ResearcherGraph\"\n",
    "researcher_graph\n"
   ]
  },
  {
   "cell_type": "markdown",
   "id": "43b33033",
   "metadata": {},
   "source": [
    "## 5. Invoking the Graph"
   ]
  },
  {
   "cell_type": "code",
   "execution_count": 17,
   "id": "09372457",
   "metadata": {},
   "outputs": [
    {
     "name": "stderr",
     "output_type": "stream",
     "text": [
      "/Users/sumi/miniforge3/envs/CDEnv/lib/python3.10/site-packages/langchain_google_genai/chat_models.py:1410: UserWarning: ChatGoogleGenerativeAI.with_structured_output with dict schema has changed recently to align with behavior of other LangChain chat models. More context: https://github.com/langchain-ai/langchain-google/pull/772\n",
      "  warnings.warn(\n",
      "/var/folders/vm/62zyvxyx70qb5rrghd3vfnx80000gn/T/ipykernel_93644/3136795656.py:69: PydanticDeprecatedSince20: The `copy` method is deprecated; use `model_copy` instead. See the docstring of `BaseModel.copy` for details about how to handle `include` and `exclude`. Deprecated in Pydantic V2.0 to be removed in V3.0. See Pydantic V2 Migration Guide at https://errors.pydantic.dev/2.11/migration/\n",
      "  new_item = item.copy(deep=True)\n"
     ]
    },
    {
     "data": {
      "text/plain": [
       "{'question': 'How to perform cross-validation?',\n",
       " 'queries': ['cross validation techniques',\n",
       "  'cross validation advantages disadvantages',\n",
       "  'cross validation implementation'],\n",
       " 'documents': [Document(id='0cae92ed-da4f-4d81-80b2-1142431443ef', metadata={'description': 'Learning the parameters of a prediction function and testing it on the same data is a methodological mistake: a model that would just repeat the labels of the samples that it has just seen would ha...', 'language': 'en', 'source': 'https://scikit-learn.org/stable/modules/cross_validation.html', 'title': '3.1. Cross-validation: evaluating estimator performance — scikit-learn 1.6.1 documentation', 'uuid': 'a116f471-bf72-67c9-d3f5-a383635b7806'}, page_content='which can be used for learning the model,\\nand the results can depend on a particular random choice for the pair of\\n(train, validation) sets.\\nA solution to this problem is a procedure called\\ncross-validation\\n(CV for short).\\nA test set should still be held out for final evaluation,\\nbut the validation set is no longer needed when doing CV.\\nIn the basic approach, called k-fold CV,\\nthe training set is split into k smaller sets\\n(other approaches are described below,\\nbut generally follow the same principles).\\nThe following procedure is followed for each of the k “folds”:'),\n",
       "  Document(id='13620bcf-c487-471f-a832-1f5573a2a0e7', metadata={'description': 'Learning the parameters of a prediction function and testing it on the same data is a methodological mistake: a model that would just repeat the labels of the samples that it has just seen would ha...', 'language': 'en', 'source': 'https://scikit-learn.org/stable/modules/cross_validation.html', 'title': '3.1. Cross-validation: evaluating estimator performance — scikit-learn 1.6.1 documentation', 'uuid': 'c602cb38-31b0-b05e-e7d4-e0604ae7dcde'}, page_content='References#\\n\\nhttp://www.faqs.org/faqs/ai-faq/neural-nets/part3/section-12.html;\\nT. Hastie, R. Tibshirani, J. Friedman,  The Elements of Statistical Learning, Springer 2009\\nL. Breiman, P. Spector Submodel selection and evaluation in regression: The X-random case, International Statistical Review 1992;\\nR. Kohavi, A Study of Cross-Validation and Bootstrap for Accuracy Estimation and Model Selection, Intl. Jnt. Conf. AI\\nR. Bharat Rao, G. Fung, R. Rosales, On the Dangers of Cross-Validation. An Experimental Evaluation, SIAM 2008;\\nG. James, D. Witten, T. Hastie, R Tibshirani, An Introduction to\\nStatistical Learning, Springer 2013.'),\n",
       "  Document(id='4c8874f1-e887-4620-91ee-5677cfe8a487', metadata={'description': 'Learning the parameters of a prediction function and testing it on the same data is a methodological mistake: a model that would just repeat the labels of the samples that it has just seen would ha...', 'language': 'en', 'source': 'https://scikit-learn.org/stable/modules/cross_validation.html', 'title': '3.1. Cross-validation: evaluating estimator performance — scikit-learn 1.6.1 documentation', 'uuid': 'b4247dbe-3220-9338-1958-b28b832d849a'}, page_content='For more details on how to control the randomness of cv splitters and avoid\\ncommon pitfalls, see Controlling randomness.\\n\\n\\n3.1.4. Cross validation and model selection#\\nCross validation iterators can also be used to directly perform model\\nselection using Grid Search for the optimal hyperparameters of the\\nmodel. This is the topic of the next section: Tuning the hyper-parameters of an estimator.'),\n",
       "  Document(id='e3d51845-2983-4680-b44c-8e40ce5c8b2f', metadata={'description': 'Learning the parameters of a prediction function and testing it on the same data is a methodological mistake: a model that would just repeat the labels of the samples that it has just seen would ha...', 'language': 'en', 'source': 'https://scikit-learn.org/stable/modules/cross_validation.html', 'title': '3.1. Cross-validation: evaluating estimator performance — scikit-learn 1.6.1 documentation', 'uuid': 'bf134e27-ee0b-cdfb-1f46-f91d3f327f36'}, page_content='The function cross_val_predict is appropriate for:\\nVisualization of predictions obtained from different models.\\nModel blending: When predictions of one supervised estimator are used to\\ntrain another estimator in ensemble methods.\\n\\n\\n\\nThe available cross validation iterators are introduced in the following\\nsection.\\nExamples\\n\\nReceiver Operating Characteristic (ROC) with cross validation,\\nRecursive feature elimination with cross-validation,\\nCustom refit strategy of a grid search with cross-validation,\\nSample pipeline for text feature extraction and evaluation,\\nPlotting Cross-Validated Predictions,\\nNested versus non-nested cross-validation.\\n\\n\\n\\n\\n3.1.2. Cross validation iterators#\\nThe following sections list utilities to generate indices\\nthat can be used to generate dataset splits according to different cross\\nvalidation strategies.'),\n",
       "  Document(id='19e27010-a1f3-4978-b6cb-46f23b1b2afb', metadata={'description': 'Learning the parameters of a prediction function and testing it on the same data is a methodological mistake: a model that would just repeat the labels of the samples that it has just seen would ha...', 'language': 'en', 'source': 'https://scikit-learn.org/stable/modules/cross_validation.html', 'title': '3.1. Cross-validation: evaluating estimator performance — scikit-learn 1.6.1 documentation', 'uuid': 'e96a2743-13e5-053b-f973-0fc7492e8e2e'}, page_content='A model is trained using \\\\(k-1\\\\) of the folds as training data;\\nthe resulting model is validated on the remaining part of the data\\n(i.e., it is used as a test set to compute a performance measure\\nsuch as accuracy).\\n\\nThe performance measure reported by k-fold cross-validation\\nis then the average of the values computed in the loop.\\nThis approach can be computationally expensive,\\nbut does not waste too much data\\n(as is the case when fixing an arbitrary validation set),\\nwhich is a major advantage in problems such as inverse inference\\nwhere the number of samples is very small.'),\n",
       "  Document(id='1f3f80ae-a7f1-430a-adc5-e52be01e2eb4', metadata={'description': 'Choosing the right cross-validation object is a crucial part of fitting a model properly. There are many ways to split data into training and test sets in order to avoid model overfitting, to stand...', 'language': 'en', 'source': 'https://scikit-learn.org/stable/auto_examples/model_selection/plot_cv_indices.html', 'title': 'Visualizing cross-validation behavior in scikit-learn — scikit-learn 1.6.1 documentation', 'uuid': '554a29b4-dd8e-8cc6-bb04-0787debc3f39'}, page_content='for cv in cvs:\\n    this_cv = cv(n_splits=n_splits)\\n    fig, ax = plt.subplots(figsize=(6, 3))\\n    plot_cv_indices(this_cv, X, y, groups, ax, n_splits)\\n\\n    ax.legend(\\n        [Patch(color=cmap_cv(0.8)), Patch(color=cmap_cv(0.02))],\\n        [\"Testing set\", \"Training set\"],\\n        loc=(1.02, 0.8),\\n    )\\n    # Make the legend fit\\n    plt.tight_layout()\\n    fig.subplots_adjust(right=0.7)\\nplt.show()\\n\\n\\n\\n\\n\\n\\n\\n\\n\\n\\n\\n\\nTotal running time of the script: (0 minutes 1.339 seconds)\\n\\n\\n\\n\\n\\n\\n\\n\\n\\n\\nDownload Jupyter notebook: plot_cv_indices.ipynb\\n\\n\\nDownload Python source code: plot_cv_indices.py\\n\\n\\nDownload zipped: plot_cv_indices.zip\\n\\n\\nRelated examples\\n\\nNested versus non-nested cross-validation\\nNested versus non-nested cross-validation\\n\\nRecursive feature elimination with cross-validation\\nRecursive feature elimination with cross-validation\\n\\nReceiver Operating Characteristic (ROC) with cross validation\\nReceiver Operating Characteristic (ROC) with cross validation'),\n",
       "  Document(id='6ff74092-ab0e-4fe8-97b0-1be3a7dc4be2', metadata={'description': 'Choosing the right cross-validation object is a crucial part of fitting a model properly. There are many ways to split data into training and test sets in order to avoid model overfitting, to stand...', 'language': 'en', 'source': 'https://scikit-learn.org/stable/auto_examples/model_selection/plot_cv_indices.html', 'title': 'Visualizing cross-validation behavior in scikit-learn — scikit-learn 1.6.1 documentation', 'uuid': '22eedfc5-b836-e523-0fb1-25c22f739bb8'}, page_content='import matplotlib.pyplot as plt\\nimport numpy as np\\nfrom matplotlib.patches import Patch\\n\\nfrom sklearn.model_selection import (\\n    GroupKFold,\\n    GroupShuffleSplit,\\n    KFold,\\n    ShuffleSplit,\\n    StratifiedGroupKFold,\\n    StratifiedKFold,\\n    StratifiedShuffleSplit,\\n    TimeSeriesSplit,\\n)\\n\\nrng = np.random.RandomState(1338)\\ncmap_data = plt.cm.Paired\\ncmap_cv = plt.cm.coolwarm\\nn_splits = 4\\n\\n\\n\\nVisualize our data#\\nFirst, we must understand the structure of our data. It has 100 randomly\\ngenerated input datapoints, 3 classes split unevenly across datapoints,\\nand 10 “groups” split evenly across datapoints.\\nAs we’ll see, some cross-validation objects do specific things with\\nlabeled data, others behave differently with grouped data, and others\\ndo not use this information.\\nTo begin, we’ll visualize our data.\\n# Generate the class/group data\\nn_points = 100\\nX = rng.randn(100, 10)'),\n",
       "  Document(id='468e4127-b6be-4b7c-ab72-1449f8cf0c4a', metadata={'description': 'This examples shows how a classifier is optimized by cross-validation, which is done using the GridSearchCV object on a development set that comprises only half of the available labeled data. The p...', 'language': 'en', 'source': 'https://scikit-learn.org/stable/auto_examples/model_selection/plot_grid_search_digits.html', 'title': 'Custom refit strategy of a grid search with cross-validation — scikit-learn 1.6.1 documentation', 'uuid': '3aa438ba-7918-482e-5b1c-bb1e15ac1b08'}, page_content='Recursive feature elimination with cross-validation\\nRecursive feature elimination with cross-validation\\nGallery generated by Sphinx-Gallery\\n\\n\\n\\n\\n\\n\\n\\n\\n\\n\\nprevious\\nConfusion matrix\\n\\n\\n\\n\\nnext\\nDemonstration of multi-metric evaluation on cross_val_score and GridSearchCV\\n\\n\\n\\n\\n\\n\\n\\n\\n\\n\\n\\n On this page\\n  \\n\\n\\nThe dataset\\nDefine our grid-search strategy\\nTuning hyper-parameters\\n\\n\\n\\n\\nThis Page\\n\\nShow Source\\n\\n\\n\\n\\n\\n\\n\\n            Download source code\\n          \\n\\n\\n\\n\\n            Download Jupyter notebook\\n          \\n\\n\\n\\n\\n            Download zipped\\n          \\n\\n\\n\\n\\n\\n\\n\\n\\n\\n\\n\\n\\n\\n\\n\\n\\n\\n\\n\\n\\n\\n\\n\\n\\n\\n\\n\\n\\n\\n\\n\\n\\n    \\n      © Copyright 2007 - 2025, scikit-learn developers (BSD License).'),\n",
       "  Document(id='2de99d0d-d56b-4111-91c7-a2955a5c035e', metadata={'description': 'Choosing the right cross-validation object is a crucial part of fitting a model properly. There are many ways to split data into training and test sets in order to avoid model overfitting, to stand...', 'language': 'en', 'source': 'https://scikit-learn.org/stable/auto_examples/model_selection/plot_cv_indices.html', 'title': 'Visualizing cross-validation behavior in scikit-learn — scikit-learn 1.6.1 documentation', 'uuid': 'c0ae0fb8-2a87-c214-9f1e-2bf1fe7527c9'}, page_content='Visualizing cross-validation behavior in scikit-learn — scikit-learn 1.6.1 documentation\\n\\n\\n\\n\\n\\n\\n\\n\\n\\n\\n\\n\\n\\n\\n\\n\\n\\n\\n\\n\\n\\n\\n\\n\\n\\n\\n\\n\\n\\n\\n\\n\\n\\n\\n\\n\\n\\n\\n\\n\\n\\n\\n\\n\\n\\n\\n\\n\\n\\nSkip to main content\\n\\n\\nBack to top\\n\\n\\n\\n\\nCtrl+K\\n\\n\\n\\n\\n\\n\\n\\n\\n\\n\\n\\n\\n\\n\\n\\n\\n\\n\\n\\n\\n\\n\\n\\n\\n    Install\\n  \\n\\n\\n\\n    User Guide\\n  \\n\\n\\n\\n    API\\n  \\n\\n\\n\\n    Examples\\n  \\n\\n\\n\\n    Community\\n  \\n\\n\\n\\n                    More\\n                \\n\\n\\n\\n    Getting Started\\n  \\n\\n\\n\\n    Release History\\n  \\n\\n\\n\\n    Glossary\\n  \\n\\n\\n\\n    Development\\n  \\n\\n\\n\\n    FAQ\\n  \\n\\n\\n\\n    Support\\n  \\n\\n\\n\\n    Related Projects\\n  \\n\\n\\n\\n    Roadmap\\n  \\n\\n\\n\\n    Governance\\n  \\n\\n\\n\\n    About us\\n  \\n\\n\\n\\n\\n\\n\\n\\n\\n\\n\\n\\n\\n\\n\\n\\n\\n\\n\\n\\n\\n\\nGitHub\\n\\n\\n\\n\\n\\n    Choose version  \\n\\n\\n\\n\\n\\n\\n\\n\\n\\n\\n\\n\\n\\n\\n\\n\\n\\n\\n\\n\\n\\n\\n\\n\\n\\n\\n\\n\\n\\n    Install\\n  \\n\\n\\n\\n    User Guide\\n  \\n\\n\\n\\n    API\\n  \\n\\n\\n\\n    Examples\\n  \\n\\n\\n\\n    Community\\n  \\n\\n\\n\\n    Getting Started\\n  \\n\\n\\n\\n    Release History\\n  \\n\\n\\n\\n    Glossary\\n  \\n\\n\\n\\n    Development\\n  \\n\\n\\n\\n    FAQ\\n  \\n\\n\\n\\n    Support\\n  \\n\\n\\n\\n    Related Projects\\n  \\n\\n\\n\\n    Roadmap\\n  \\n\\n\\n\\n    Governance\\n  \\n\\n\\n\\n    About us\\n  \\n\\n\\n\\n\\n\\n\\n\\n\\n\\n\\n\\n\\n\\n\\nGitHub\\n\\n\\n\\n\\n\\n    Choose version')]}"
      ]
     },
     "execution_count": 17,
     "metadata": {},
     "output_type": "execute_result"
    }
   ],
   "source": [
    "state = ResearcherState(question=\"How to perform cross-validation?\")\n",
    "final_state = await researcher_graph.ainvoke(state)\n",
    "\n",
    "final_state"
   ]
  },
  {
   "cell_type": "markdown",
   "id": "109f3862",
   "metadata": {},
   "source": [
    "## 6. State schemas for RetrievalGraph"
   ]
  },
  {
   "cell_type": "code",
   "execution_count": 18,
   "id": "ad2c864a",
   "metadata": {},
   "outputs": [],
   "source": [
    "from langchain_core.messages import AnyMessage\n",
    "from langgraph.graph import add_messages\n",
    "\n",
    "\n",
    "@dataclass(kw_only=True)\n",
    "class InputState:\n",
    "    \"\"\"Represents the input state for the agent\"\"\"\n",
    "    messages: Annotated[list[AnyMessage], add_messages]\n",
    "    \n",
    "    \n",
    "class Router(TypedDict):\n",
    "    \"\"\"Classifu user query\"\"\"\n",
    "    logic: str\n",
    "    type: Literal[\"more-info\", \"scikit-learn\", \"general\"]\n",
    "    \n",
    "\n",
    "@dataclass(kw_only=True)\n",
    "class AgentState(InputState):\n",
    "    \"\"\"State of the retrieval graph\"\"\"\n",
    "    router: Router=field(default_factory=lambda: Router(type=\"general\", logic=\"\"))\n",
    "    steps: list[str]=field(default_factory=list)\n",
    "    documents: Annotated[list[Document], reduce_docs]=field(default_factory=list)\n",
    "    \n"
   ]
  },
  {
   "cell_type": "markdown",
   "id": "b57cd133",
   "metadata": {},
   "source": [
    "## 7. Prompts for the RetrievalGraph"
   ]
  },
  {
   "cell_type": "code",
   "execution_count": 19,
   "id": "5e421d89",
   "metadata": {},
   "outputs": [],
   "source": [
    "ROUTER_SYSTEM_PROMPT = \"\"\"You are a Scikit-learn Developer advocate. Your job is help people using Scikit-learn answer any issues they are running into.\n",
    "\n",
    "A user will come to you with an inquiry. Your first job is to classify what type of inquiry it is. The types of inquiries you should classify it as are:\n",
    "\n",
    "## `more-info`\n",
    "Classify a user inquiry as this if you need more information before you will be able to help them. Examples include:\n",
    "- The user complains about an error but doesn't provide the error\n",
    "- The user says something isn't working but doesn't explain why/how it's not working\n",
    "\n",
    "## `scikit-learn`\n",
    "Classify a user inquiry as this if it can be answered by looking up information related to Scikit-learn open source package. The Scikit-learn open source package \\\n",
    "is a python library. It is a collection of algorithms and tools for machine learning. \\\n",
    "\n",
    "## `general`\n",
    "Classify a user inquiry as this if it is just a general question\"\"\"\n"
   ]
  },
  {
   "cell_type": "code",
   "execution_count": 20,
   "id": "c0857f70",
   "metadata": {},
   "outputs": [],
   "source": [
    "GENERAL_SYSTEM_PROMPT = \"\"\"You are a Scikit-learn Developer advocate. Your job is help people using Scikit-learn answer any issues they are running into.\n",
    "\n",
    "Your boss has determined that the user is asking a general question, not one related to Scikit-learn. This was their logic:\n",
    "\n",
    "<logic>\n",
    "{logic}\n",
    "</logic>\n",
    "\n",
    "Respond to the user. Politely decline to answer and tell them you can only answer questions about Scikit-learn related topics, and that if their question is about scikit-learn they should clarify how it is.\\\n",
    "Be nice to them though - they are still a user!\"\"\"\n"
   ]
  },
  {
   "cell_type": "code",
   "execution_count": 21,
   "id": "b70d8b10",
   "metadata": {},
   "outputs": [],
   "source": [
    "MORE_INFO_SYSTEM_PROMPT = \"\"\"You are a Scikit-learn Developer advocate. Your job is help people using Scikit-learn answer any issues they are running into.\n",
    "\n",
    "Your boss has determined that more information is needed before doing any research on behalf of the user. This was their logic:\n",
    "\n",
    "<logic>\n",
    "{logic}\n",
    "</logic>\n",
    "\n",
    "Respond to the user and try to get any more relevant information. Do not overwhelm them! Be nice, and only ask them a single follow up question.\"\"\"\n"
   ]
  },
  {
   "cell_type": "code",
   "execution_count": 22,
   "id": "9c514c7e",
   "metadata": {},
   "outputs": [],
   "source": [
    "\n",
    "RESEARCH_PLAN_SYSTEM_PROMPT = \"\"\"You are a Scikit-learn expert and a world-class researcher, here to assist with any and all questions or issues with Scikit-learn, Machine Learning, Data Science, or any related functionality. Users may come to you with questions or issues.\n",
    "\n",
    "Based on the conversation below, generate a plan for how you will research the answer to their question. \\\n",
    "The plan should generally not be more than 3 steps long, it can be as short as one. The length of the plan depends on the question.\n",
    "\n",
    "You have access to the following documentation sources:\n",
    "- User guide\n",
    "- API Reference\n",
    "- Examples\n",
    "- Scikit-learn documentation\n",
    "- Code snippets\n",
    "- Tutorials\n",
    "- Conceptual docs\n",
    "- Integration docs\n",
    "\n",
    "You do not need to specify where you want to research for all steps of the plan, but it's sometimes helpful.\"\"\"\n"
   ]
  },
  {
   "cell_type": "code",
   "execution_count": 23,
   "id": "18764cd1",
   "metadata": {},
   "outputs": [],
   "source": [
    "RESPONSE_SYSTEM_PROMPT = \"\"\"\\\n",
    "You are an expert programmer and problem-solver, tasked with answering any question \\\n",
    "about Scikit-learn.\n",
    "\n",
    "Generate a comprehensive and informative answer for the \\\n",
    "given question based solely on the provided search results (URL and content). \\\n",
    "Do NOT ramble, and adjust your response length based on the question. If they ask \\\n",
    "a question that can be answered in one sentence, do that. If 5 paragraphs of detail is needed, \\\n",
    "do that. You must \\\n",
    "only use information from the provided search results. Use an unbiased and \\\n",
    "journalistic tone. Combine search results together into a coherent answer. Do not \\\n",
    "repeat text. Cite search results using [${{number}}] notation. Only cite the most \\\n",
    "relevant results that answer the question accurately. Place these citations at the end \\\n",
    "of the individual sentence or paragraph that reference them. \\\n",
    "Do not put them all at the end, but rather sprinkle them throughout. If \\\n",
    "different results refer to different entities within the same name, write separate \\\n",
    "answers for each entity.\n",
    "\n",
    "You should use bullet points in your answer for readability. Put citations where they apply\n",
    "rather than putting them all at the end. DO NOT PUT THEM ALL THAT END, PUT THEM IN THE BULLET POINTS.\n",
    "\n",
    "If there is nothing in the context relevant to the question at hand, do NOT make up an answer. \\\n",
    "Rather, tell them why you're unsure and ask for any additional information that may help you answer better.\n",
    "\n",
    "Sometimes, what a user is asking may NOT be possible. Do NOT tell them that things are possible if you don't \\\n",
    "see evidence for it in the context below. If you don't see based in the information below that something is possible, \\\n",
    "do NOT say that it is - instead say that you're not sure.\n",
    "\n",
    "Anything between the following `context` html blocks is retrieved from a knowledge \\\n",
    "bank, not part of the conversation with the user.\n",
    "\n",
    "<context>\n",
    "    {context}\n",
    "<context/>\"\"\"\n"
   ]
  },
  {
   "cell_type": "markdown",
   "id": "41c0fdd0",
   "metadata": {},
   "source": [
    "## 8. Nodes of RetrievalGraph"
   ]
  },
  {
   "cell_type": "code",
   "execution_count": 24,
   "id": "f838792c",
   "metadata": {},
   "outputs": [],
   "source": [
    "from typing_extensions import Any, Literal, TypedDict, cast\n",
    "\n",
    "from langchain_core.messages import BaseMessage\n",
    "from langchain_core.runnables import RunnableConfig\n",
    "from langgraph.graph import END, START, StateGraph\n",
    "\n",
    "\n",
    "# QueryAnalyzer\n",
    "async def analyze_and_route_query(\n",
    "    state: AgentState, *, config: RunnableConfig\n",
    ")-> dict[str, Router]:\n",
    "    \"\"\"Analyze the user's query and determine the appropriate routing\"\"\"\n",
    "    model=llm\n",
    "    messages=[\n",
    "        {\"role\": \"system\", \"content\": ROUTER_SYSTEM_PROMPT}\n",
    "    ]+ state.messages\n",
    "    response=cast(Router, await model.with_structured_output(Router).ainvoke(messages))\n",
    "    return {\"router\": response}\n",
    "\n",
    "\n",
    "    "
   ]
  },
  {
   "cell_type": "code",
   "execution_count": 25,
   "id": "4bd153f0",
   "metadata": {},
   "outputs": [],
   "source": [
    "# QueryRouter\n",
    "def route_query(\n",
    "    state: AgentState,\n",
    ")-> Literal[\"create_research_plan\", \"ask_for_more_info\", \"respond_to_general_query\"]:\n",
    "    \"\"\"Determine the next steps based on query classification\"\"\"\n",
    "    _type=state.router[\"type\"]\n",
    "    if _type==\"scikit-learn\":\n",
    "        return \"create_research_plan\"\n",
    "    elif _type==\"more-info\":\n",
    "        return \"ask_for_more_info\"\n",
    "    elif _type==\"general\":\n",
    "        return \"respond_to_general_query\"\n",
    "    else:\n",
    "        raise ValueError(f\"Unknown router type: {_type}\")\n",
    "    \n"
   ]
  },
  {
   "cell_type": "code",
   "execution_count": 26,
   "id": "3212aa87",
   "metadata": {},
   "outputs": [],
   "source": [
    "# ask_for_more_info\n",
    "async def ask_for_more_info(\n",
    "    state: AgentState, *, config: RunnableConfig\n",
    ")-> dict[str, list[BaseMessage]]:\n",
    "    \"\"\"Generate a response asking the user for more information\"\"\"\n",
    "    model=llm\n",
    "    system_prompt=MORE_INFO_SYSTEM_PROMPT.format(logic=state.router[\"logic\"])\n",
    "    messages=[{\"role\": \"system\", \"content\": system_prompt}]+state.messages\n",
    "    response= await model.ainvoke(messages)\n",
    "    return {\"messages\": [response]}\n"
   ]
  },
  {
   "cell_type": "code",
   "execution_count": 27,
   "id": "fd916ded",
   "metadata": {},
   "outputs": [],
   "source": [
    "# Respond to general query\n",
    "async def respond_to_general_query(\n",
    "    state: AgentState, *, config: RunnableConfig\n",
    ") -> dict[str, list[BaseMessage]]:\n",
    "    \"\"\"Generate a response to a general query not related to scikit-learn.\"\"\"\n",
    "    model = llm\n",
    "    system_prompt = GENERAL_SYSTEM_PROMPT.format(\n",
    "        logic=state.router[\"logic\"]\n",
    "    )\n",
    "    messages = [{\"role\": \"system\", \"content\": system_prompt}] + state.messages\n",
    "    response = await model.ainvoke(messages)\n",
    "    return {\"messages\": [response]}\n"
   ]
  },
  {
   "cell_type": "code",
   "execution_count": 28,
   "id": "4c3ebf4e",
   "metadata": {},
   "outputs": [],
   "source": [
    "# Create research plan\n",
    "async def create_research_plan(\n",
    "    state: AgentState, *, config: RunnableConfig\n",
    ") -> dict[str, list[str] | str]:\n",
    "    \"\"\"Create a step-by-step research plan for answering a Scikit-learn related query.\"\"\"\n",
    "\n",
    "    class Plan(TypedDict):\n",
    "        \"\"\"Generate research plan.\"\"\"\n",
    "\n",
    "        steps: list[str]\n",
    "\n",
    "    model = llm.with_structured_output(Plan)\n",
    "    messages = [\n",
    "        {\"role\": \"system\", \"content\": RESEARCH_PLAN_SYSTEM_PROMPT}\n",
    "    ] + state.messages\n",
    "    response = cast(Plan, await model.ainvoke(messages))\n",
    "    return {\"steps\": response[\"steps\"], \"documents\": \"delete\"}\n"
   ]
  },
  {
   "cell_type": "code",
   "execution_count": 29,
   "id": "574c5714",
   "metadata": {},
   "outputs": [],
   "source": [
    "# Conduct Research\n",
    "async def conduct_research(state: AgentState) -> dict[str, Any]:\n",
    "    \"\"\"Execute the first step of the research plan.\"\"\"\n",
    "    result = await researcher_graph.ainvoke({\"question\": state.steps[0]})\n",
    "    return {\"documents\": result[\"documents\"], \"steps\": state.steps[1:]}\n"
   ]
  },
  {
   "cell_type": "code",
   "execution_count": 30,
   "id": "dd3df3af",
   "metadata": {},
   "outputs": [],
   "source": [
    "def check_finished(state: AgentState) -> Literal[\"respond\", \"conduct_research\"]:\n",
    "    \"\"\"Determine if the research process is complete or if more research is needed.\"\"\"\n",
    "    if len(state.steps or []) > 0:\n",
    "        return \"conduct_research\"\n",
    "    else:\n",
    "        return \"respond\"\n"
   ]
  },
  {
   "cell_type": "code",
   "execution_count": 31,
   "id": "96802a30",
   "metadata": {},
   "outputs": [],
   "source": [
    "def _format_doc(doc: Document) -> str:\n",
    "    \"\"\"Format a single document as XML.\n",
    "\n",
    "    Args:\n",
    "        doc (Document): The document to format.\n",
    "\n",
    "    Returns:\n",
    "        str: The formatted document as an XML string.\n",
    "    \"\"\"\n",
    "    metadata = doc.metadata or {}\n",
    "    meta = \"\".join(f\" {k}={v!r}\" for k, v in metadata.items())\n",
    "    if meta:\n",
    "        meta = f\" {meta}\"\n",
    "\n",
    "    return f\"<document{meta}>\\n{doc.page_content}\\n</document>\"\n",
    "\n",
    "\n",
    "def format_docs(docs: Optional[list[Document]]) -> str:\n",
    "    \"\"\"Format a list of documents as XML.\n",
    "\n",
    "    This function takes a list of Document objects and formats them into a single XML string.\n",
    "\n",
    "    Args:\n",
    "        docs (Optional[list[Document]]): A list of Document objects to format, or None.\n",
    "\n",
    "    Returns:\n",
    "        str: A string containing the formatted documents in XML format.\n",
    "\n",
    "    Examples:\n",
    "        >>> docs = [Document(page_content=\"Hello\"), Document(page_content=\"World\")]\n",
    "        >>> print(format_docs(docs))\n",
    "        <documents>\n",
    "        <document>\n",
    "        Hello\n",
    "        </document>\n",
    "        <document>\n",
    "        World\n",
    "        </document>\n",
    "        </documents>\n",
    "\n",
    "        >>> print(format_docs(None))\n",
    "        <documents></documents>\n",
    "    \"\"\"\n",
    "    if not docs:\n",
    "        return \"<documents></documents>\"\n",
    "    formatted = \"\\n\".join(_format_doc(doc) for doc in docs)\n",
    "    return f\"\"\"<documents>\n",
    "{formatted}\n",
    "</documents>\"\"\"\n"
   ]
  },
  {
   "cell_type": "code",
   "execution_count": 32,
   "id": "0d8b6e07",
   "metadata": {},
   "outputs": [],
   "source": [
    "async def respond(\n",
    "    state: AgentState, *, config: RunnableConfig\n",
    ") -> dict[str, list[BaseMessage]]:\n",
    "    \"\"\"Generate a final response to the user's query based on the conducted research.\"\"\"\n",
    "\n",
    "    model = llm\n",
    "    context = format_docs(state.documents)\n",
    "    prompt = RESPONSE_SYSTEM_PROMPT.format(context=context)\n",
    "    messages = [{\"role\": \"system\", \"content\": prompt}] + state.messages\n",
    "    response = await model.ainvoke(messages)\n",
    "    return {\"messages\": [response]}\n"
   ]
  },
  {
   "cell_type": "markdown",
   "id": "41ae74bc",
   "metadata": {},
   "source": [
    "## 9. RetrievalGraph Definition"
   ]
  },
  {
   "cell_type": "code",
   "execution_count": 36,
   "id": "33daa672",
   "metadata": {},
   "outputs": [
    {
     "data": {
      "image/png": "[encoded data removed]",
      "text/plain": [
       "<langgraph.graph.state.CompiledStateGraph object at 0x11db446d0>"
      ]
     },
     "execution_count": 36,
     "metadata": {},
     "output_type": "execute_result"
    }
   ],
   "source": [
    "builder = StateGraph(AgentState, input=InputState)\n",
    "\n",
    "builder.add_node(analyze_and_route_query)\n",
    "builder.add_node(ask_for_more_info)\n",
    "builder.add_node(respond_to_general_query)\n",
    "builder.add_node(conduct_research)\n",
    "builder.add_node(create_research_plan)\n",
    "builder.add_node(respond)\n",
    "\n",
    "builder.add_edge(START, \"analyze_and_route_query\")\n",
    "builder.add_conditional_edges(\"analyze_and_route_query\", route_query)\n",
    "builder.add_edge(\"create_research_plan\", \"conduct_research\")\n",
    "builder.add_conditional_edges(\"conduct_research\", check_finished)\n",
    "builder.add_edge(\"ask_for_more_info\", END)\n",
    "builder.add_edge(\"respond_to_general_query\", END)\n",
    "builder.add_edge(\"respond\", END)\n",
    "\n",
    "# Compile into a graph object that you can invoke and deploy.\n",
    "graph = builder.compile()\n",
    "graph.name = \"RetrievalGraph\"\n",
    "graph\n",
    "\n"
   ]
  },
  {
   "cell_type": "code",
   "execution_count": 34,
   "id": "83050b5b",
   "metadata": {},
   "outputs": [
    {
     "name": "stderr",
     "output_type": "stream",
     "text": [
      "/Users/sumi/miniforge3/envs/CDEnv/lib/python3.10/site-packages/langchain_google_genai/chat_models.py:1410: UserWarning: ChatGoogleGenerativeAI.with_structured_output with dict schema has changed recently to align with behavior of other LangChain chat models. More context: https://github.com/langchain-ai/langchain-google/pull/772\n",
      "  warnings.warn(\n",
      "/Users/sumi/miniforge3/envs/CDEnv/lib/python3.10/site-packages/langchain_google_genai/chat_models.py:1410: UserWarning: ChatGoogleGenerativeAI.with_structured_output with dict schema has changed recently to align with behavior of other LangChain chat models. More context: https://github.com/langchain-ai/langchain-google/pull/772\n",
      "  warnings.warn(\n",
      "/Users/sumi/miniforge3/envs/CDEnv/lib/python3.10/site-packages/langchain_google_genai/chat_models.py:1410: UserWarning: ChatGoogleGenerativeAI.with_structured_output with dict schema has changed recently to align with behavior of other LangChain chat models. More context: https://github.com/langchain-ai/langchain-google/pull/772\n",
      "  warnings.warn(\n",
      "/var/folders/vm/62zyvxyx70qb5rrghd3vfnx80000gn/T/ipykernel_93644/3136795656.py:69: PydanticDeprecatedSince20: The `copy` method is deprecated; use `model_copy` instead. See the docstring of `BaseModel.copy` for details about how to handle `include` and `exclude`. Deprecated in Pydantic V2.0 to be removed in V3.0. See Pydantic V2 Migration Guide at https://errors.pydantic.dev/2.11/migration/\n",
      "  new_item = item.copy(deep=True)\n"
     ]
    },
    {
     "data": {
      "text/plain": [
       "{'messages': [HumanMessage(content='How to use cross-validation?', additional_kwargs={}, response_metadata={}, id='102a15e4-3154-401a-bf0d-9f9b64deb5e5'),\n",
       "  AIMessage(content='Cross-validation is a crucial part of fitting a model properly [22eedfc5-b836-e523-0fb1-25c22f739bb8]. There are many ways to split data into training and test sets in order to avoid model overfitting [22eedfc5-b836-e523-0fb1-25c22f739bb8].\\n\\nHere are some key points regarding the use of cross-validation:\\n\\n*   **Purpose**: Cross-validation is used to train a model where hyperparameters also need to be tuned [95abda7e-f797-83ba-cee1-6e09a331005f]. It helps avoid model overfitting [22eedfc5-b836-e523-0fb1-25c22f739bb8].\\n*   **Visualization**: You can visualize cross-validation behavior using scikit-learn [c0ae0fb8-2a87-c214-9f1e-2bf1fe7527c9].\\n*   **Prediction Errors**: `cross_val_predict` can be used together with `PredictionErrorDisplay` to visualize prediction errors [ccee5831-53d6-ad15-f1ec-5fc1f3d2a788]. As an example, you can load the diabetes dataset and create an instance of a linear regression model [ccee5831-53d6-ad15-f1ec-5fc1f3d2a788].\\n*   **Nested vs. Non-Nested CV**: Nested cross-validation is often used to train a model in which hyperparameters also need to be tuned [95abda7e-f797-83ba-cee1-6e09a331005f].\\n*   **Hyperparameter Tuning**: Cross-validation can optimize a classifier, which can be done using the `GridSearchCV` object on a development set [3aa438ba-7918-482e-5b1c-bb1e15ac1b08].\\n*   **Data Splitting**: There are a number of cross-validation objects in scikit-learn that can be used to split data, including `GroupKFold`, `GroupShuffleSplit`, `KFold`, `ShuffleSplit`, `StratifiedGroupKFold`, `StratifiedKFold`, `StratifiedShuffleSplit`, and `TimeSeriesSplit` [22eedfc5-b836-e523-0fb1-25c22f739bb8].', additional_kwargs={}, response_metadata={'prompt_feedback': {'block_reason': 0, 'safety_ratings': []}, 'finish_reason': 'STOP', 'model_name': 'gemini-2.0-flash', 'safety_ratings': []}, id='run-28065f80-ae1e-47cc-b4aa-87aa7f69c688-0', usage_metadata={'input_tokens': 2741, 'output_tokens': 610, 'total_tokens': 3351, 'input_token_details': {'cache_read': 0}})],\n",
       " 'router': {'type': 'scikit-learn', 'logic': 'How to use cross-validation?'},\n",
       " 'steps': [],\n",
       " 'documents': [Document(id='2de99d0d-d56b-4111-91c7-a2955a5c035e', metadata={'description': 'Choosing the right cross-validation object is a crucial part of fitting a model properly. There are many ways to split data into training and test sets in order to avoid model overfitting, to stand...', 'language': 'en', 'source': 'https://scikit-learn.org/stable/auto_examples/model_selection/plot_cv_indices.html', 'title': 'Visualizing cross-validation behavior in scikit-learn — scikit-learn 1.6.1 documentation', 'uuid': 'c0ae0fb8-2a87-c214-9f1e-2bf1fe7527c9'}, page_content='Visualizing cross-validation behavior in scikit-learn — scikit-learn 1.6.1 documentation\\n\\n\\n\\n\\n\\n\\n\\n\\n\\n\\n\\n\\n\\n\\n\\n\\n\\n\\n\\n\\n\\n\\n\\n\\n\\n\\n\\n\\n\\n\\n\\n\\n\\n\\n\\n\\n\\n\\n\\n\\n\\n\\n\\n\\n\\n\\n\\n\\n\\nSkip to main content\\n\\n\\nBack to top\\n\\n\\n\\n\\nCtrl+K\\n\\n\\n\\n\\n\\n\\n\\n\\n\\n\\n\\n\\n\\n\\n\\n\\n\\n\\n\\n\\n\\n\\n\\n\\n    Install\\n  \\n\\n\\n\\n    User Guide\\n  \\n\\n\\n\\n    API\\n  \\n\\n\\n\\n    Examples\\n  \\n\\n\\n\\n    Community\\n  \\n\\n\\n\\n                    More\\n                \\n\\n\\n\\n    Getting Started\\n  \\n\\n\\n\\n    Release History\\n  \\n\\n\\n\\n    Glossary\\n  \\n\\n\\n\\n    Development\\n  \\n\\n\\n\\n    FAQ\\n  \\n\\n\\n\\n    Support\\n  \\n\\n\\n\\n    Related Projects\\n  \\n\\n\\n\\n    Roadmap\\n  \\n\\n\\n\\n    Governance\\n  \\n\\n\\n\\n    About us\\n  \\n\\n\\n\\n\\n\\n\\n\\n\\n\\n\\n\\n\\n\\n\\n\\n\\n\\n\\n\\n\\n\\nGitHub\\n\\n\\n\\n\\n\\n    Choose version  \\n\\n\\n\\n\\n\\n\\n\\n\\n\\n\\n\\n\\n\\n\\n\\n\\n\\n\\n\\n\\n\\n\\n\\n\\n\\n\\n\\n\\n\\n    Install\\n  \\n\\n\\n\\n    User Guide\\n  \\n\\n\\n\\n    API\\n  \\n\\n\\n\\n    Examples\\n  \\n\\n\\n\\n    Community\\n  \\n\\n\\n\\n    Getting Started\\n  \\n\\n\\n\\n    Release History\\n  \\n\\n\\n\\n    Glossary\\n  \\n\\n\\n\\n    Development\\n  \\n\\n\\n\\n    FAQ\\n  \\n\\n\\n\\n    Support\\n  \\n\\n\\n\\n    Related Projects\\n  \\n\\n\\n\\n    Roadmap\\n  \\n\\n\\n\\n    Governance\\n  \\n\\n\\n\\n    About us\\n  \\n\\n\\n\\n\\n\\n\\n\\n\\n\\n\\n\\n\\n\\n\\nGitHub\\n\\n\\n\\n\\n\\n    Choose version'),\n",
       "  Document(id='c79dc9f4-bb61-4a94-b78b-5526646bfbdb', metadata={'description': 'This example shows how to use cross_val_predict together with PredictionErrorDisplay to visualize prediction errors. We will load the diabetes dataset and create an instance of a linear regression ...', 'language': 'en', 'source': 'https://scikit-learn.org/stable/auto_examples/model_selection/plot_cv_predict.html', 'title': 'Plotting Cross-Validated Predictions — scikit-learn 1.6.1 documentation', 'uuid': 'ccee5831-53d6-ad15-f1ec-5fc1f3d2a788'}, page_content='Plotting Cross-Validated Predictions — scikit-learn 1.6.1 documentation\\n\\n\\n\\n\\n\\n\\n\\n\\n\\n\\n\\n\\n\\n\\n\\n\\n\\n\\n\\n\\n\\n\\n\\n\\n\\n\\n\\n\\n\\n\\n\\n\\n\\n\\n\\n\\n\\n\\n\\n\\n\\n\\n\\n\\n\\n\\n\\n\\n\\n\\nSkip to main content\\n\\n\\nBack to top\\n\\n\\n\\n\\nCtrl+K\\n\\n\\n\\n\\n\\n\\n\\n\\n\\n\\n\\n\\n\\n\\n\\n\\n\\n\\n\\n\\n\\n\\n\\n\\n    Install\\n  \\n\\n\\n\\n    User Guide\\n  \\n\\n\\n\\n    API\\n  \\n\\n\\n\\n    Examples\\n  \\n\\n\\n\\n    Community\\n  \\n\\n\\n\\n                    More\\n                \\n\\n\\n\\n    Getting Started\\n  \\n\\n\\n\\n    Release History\\n  \\n\\n\\n\\n    Glossary\\n  \\n\\n\\n\\n    Development\\n  \\n\\n\\n\\n    FAQ\\n  \\n\\n\\n\\n    Support\\n  \\n\\n\\n\\n    Related Projects\\n  \\n\\n\\n\\n    Roadmap\\n  \\n\\n\\n\\n    Governance\\n  \\n\\n\\n\\n    About us\\n  \\n\\n\\n\\n\\n\\n\\n\\n\\n\\n\\n\\n\\n\\n\\n\\n\\n\\n\\n\\n\\n\\nGitHub\\n\\n\\n\\n\\n\\n    Choose version  \\n\\n\\n\\n\\n\\n\\n\\n\\n\\n\\n\\n\\n\\n\\n\\n\\n\\n\\n\\n\\n\\n\\n\\n\\n\\n\\n\\n\\n\\n    Install\\n  \\n\\n\\n\\n    User Guide\\n  \\n\\n\\n\\n    API\\n  \\n\\n\\n\\n    Examples\\n  \\n\\n\\n\\n    Community\\n  \\n\\n\\n\\n    Getting Started\\n  \\n\\n\\n\\n    Release History\\n  \\n\\n\\n\\n    Glossary\\n  \\n\\n\\n\\n    Development\\n  \\n\\n\\n\\n    FAQ\\n  \\n\\n\\n\\n    Support\\n  \\n\\n\\n\\n    Related Projects\\n  \\n\\n\\n\\n    Roadmap\\n  \\n\\n\\n\\n    Governance\\n  \\n\\n\\n\\n    About us\\n  \\n\\n\\n\\n\\n\\n\\n\\n\\n\\n\\n\\n\\n\\n\\nGitHub\\n\\n\\n\\n\\n\\n    Choose version'),\n",
       "  Document(id='1ddc1082-2468-4a0c-b86d-0ab3353f9ae0', metadata={'description': 'This example compares non-nested and nested cross-validation strategies on a classifier of the iris data set. Nested cross-validation (CV) is often used to train a model in which hyperparameters al...', 'language': 'en', 'source': 'https://scikit-learn.org/stable/auto_examples/model_selection/plot_nested_cross_validation_iris.html', 'title': 'Nested versus non-nested cross-validation — scikit-learn 1.6.1 documentation', 'uuid': '95abda7e-f797-83ba-cee1-6e09a331005f'}, page_content='next\\nPlotting Cross-Validated Predictions\\n\\n\\n\\n\\n\\n\\n\\n\\n\\n\\n\\nThis Page\\n\\nShow Source\\n\\n\\n\\n\\n\\n\\n\\n            Download source code\\n          \\n\\n\\n\\n\\n            Download Jupyter notebook\\n          \\n\\n\\n\\n\\n            Download zipped\\n          \\n\\n\\n\\n\\n\\n\\n\\n\\n\\n\\n\\n\\n\\n\\n\\n\\n\\n\\n\\n\\n\\n\\n\\n\\n\\n\\n\\n\\n\\n\\n\\n\\n    \\n      © Copyright 2007 - 2025, scikit-learn developers (BSD License).'),\n",
       "  Document(id='6ff74092-ab0e-4fe8-97b0-1be3a7dc4be2', metadata={'description': 'Choosing the right cross-validation object is a crucial part of fitting a model properly. There are many ways to split data into training and test sets in order to avoid model overfitting, to stand...', 'language': 'en', 'source': 'https://scikit-learn.org/stable/auto_examples/model_selection/plot_cv_indices.html', 'title': 'Visualizing cross-validation behavior in scikit-learn — scikit-learn 1.6.1 documentation', 'uuid': '22eedfc5-b836-e523-0fb1-25c22f739bb8'}, page_content='import matplotlib.pyplot as plt\\nimport numpy as np\\nfrom matplotlib.patches import Patch\\n\\nfrom sklearn.model_selection import (\\n    GroupKFold,\\n    GroupShuffleSplit,\\n    KFold,\\n    ShuffleSplit,\\n    StratifiedGroupKFold,\\n    StratifiedKFold,\\n    StratifiedShuffleSplit,\\n    TimeSeriesSplit,\\n)\\n\\nrng = np.random.RandomState(1338)\\ncmap_data = plt.cm.Paired\\ncmap_cv = plt.cm.coolwarm\\nn_splits = 4\\n\\n\\n\\nVisualize our data#\\nFirst, we must understand the structure of our data. It has 100 randomly\\ngenerated input datapoints, 3 classes split unevenly across datapoints,\\nand 10 “groups” split evenly across datapoints.\\nAs we’ll see, some cross-validation objects do specific things with\\nlabeled data, others behave differently with grouped data, and others\\ndo not use this information.\\nTo begin, we’ll visualize our data.\\n# Generate the class/group data\\nn_points = 100\\nX = rng.randn(100, 10)'),\n",
       "  Document(id='e8b3a7ff-b243-4eab-a3f8-761660f3c5ff', metadata={'description': 'A Recursive Feature Elimination (RFE) example with automatic tuning of the number of features selected with cross-validation. Data generation: We build a classification task using 3 informative fea...', 'language': 'en', 'source': 'https://scikit-learn.org/stable/auto_examples/feature_selection/plot_rfe_with_cross_validation.html', 'title': 'Recursive feature elimination with cross-validation — scikit-learn 1.6.1 documentation', 'uuid': 'c55db99c-b989-8ead-0caa-86a5a2d15354'}, page_content='Download zipped: plot_rfe_with_cross_validation.zip\\n\\n\\nRelated examples\\n\\nBalance model complexity and cross-validated score\\nBalance model complexity and cross-validated score\\n\\nCustom refit strategy of a grid search with cross-validation\\nCustom refit strategy of a grid search with cross-validation\\n\\nPipeline ANOVA SVM\\nPipeline ANOVA SVM\\n\\nPost-hoc tuning the cut-off point of decision function\\nPost-hoc tuning the cut-off point of decision function\\nGallery generated by Sphinx-Gallery\\n\\n\\n\\n\\n\\n\\n\\n\\n\\n\\nprevious\\nRecursive feature elimination\\n\\n\\n\\n\\nnext\\nUnivariate Feature Selection\\n\\n\\n\\n\\n\\n\\n\\n\\n\\n\\n\\n On this page\\n  \\n\\n\\nData generation\\nModel training and selection\\nPlot number of features VS. cross-validation scores\\n\\n\\n\\n\\nThis Page\\n\\nShow Source\\n\\n\\n\\n\\n\\n\\n\\n            Download source code\\n          \\n\\n\\n\\n\\n            Download Jupyter notebook\\n          \\n\\n\\n\\n\\n            Download zipped\\n          \\n\\n\\n\\n\\n\\n\\n\\n\\n\\n\\n\\n\\n\\n\\n\\n\\n\\n\\n\\n\\n\\n\\n\\n\\n\\n\\n\\n\\n\\n\\n\\n\\n    \\n      © Copyright 2007 - 2025, scikit-learn developers (BSD License).'),\n",
       "  Document(id='468e4127-b6be-4b7c-ab72-1449f8cf0c4a', metadata={'description': 'This examples shows how a classifier is optimized by cross-validation, which is done using the GridSearchCV object on a development set that comprises only half of the available labeled data. The p...', 'language': 'en', 'source': 'https://scikit-learn.org/stable/auto_examples/model_selection/plot_grid_search_digits.html', 'title': 'Custom refit strategy of a grid search with cross-validation — scikit-learn 1.6.1 documentation', 'uuid': '3aa438ba-7918-482e-5b1c-bb1e15ac1b08'}, page_content='Recursive feature elimination with cross-validation\\nRecursive feature elimination with cross-validation\\nGallery generated by Sphinx-Gallery\\n\\n\\n\\n\\n\\n\\n\\n\\n\\n\\nprevious\\nConfusion matrix\\n\\n\\n\\n\\nnext\\nDemonstration of multi-metric evaluation on cross_val_score and GridSearchCV\\n\\n\\n\\n\\n\\n\\n\\n\\n\\n\\n\\n On this page\\n  \\n\\n\\nThe dataset\\nDefine our grid-search strategy\\nTuning hyper-parameters\\n\\n\\n\\n\\nThis Page\\n\\nShow Source\\n\\n\\n\\n\\n\\n\\n\\n            Download source code\\n          \\n\\n\\n\\n\\n            Download Jupyter notebook\\n          \\n\\n\\n\\n\\n            Download zipped\\n          \\n\\n\\n\\n\\n\\n\\n\\n\\n\\n\\n\\n\\n\\n\\n\\n\\n\\n\\n\\n\\n\\n\\n\\n\\n\\n\\n\\n\\n\\n\\n\\n\\n    \\n      © Copyright 2007 - 2025, scikit-learn developers (BSD License).'),\n",
       "  Document(id='9893a500-a039-4c68-992b-cd5b0bda7409', metadata={'description': 'Gallery examples: Comparing different clustering algorithms on toy datasets Demonstration of k-means assumptions Density Estimation for a Gaussian mixture GMM Initialization Methods GMM covariances...', 'language': 'en', 'source': 'https://scikit-learn.org/stable/modules/generated/sklearn.mixture.GaussianMixture.html', 'title': 'GaussianMixture — scikit-learn 1.6.1 documentation', 'uuid': '5812207b-8333-2571-f101-2ede7bccb2af'}, page_content='sklearn.cross_decomposition\\nCCA\\nPLSCanonical\\nPLSRegression\\nPLSSVD\\n\\n\\nsklearn.datasets\\nclear_data_home\\ndump_svmlight_file\\nfetch_20newsgroups\\nfetch_20newsgroups_vectorized\\nfetch_california_housing\\nfetch_covtype\\nfetch_file\\nfetch_kddcup99\\nfetch_lfw_pairs\\nfetch_lfw_people\\nfetch_olivetti_faces\\nfetch_openml\\nfetch_rcv1\\nfetch_species_distributions\\nget_data_home\\nload_breast_cancer\\nload_diabetes\\nload_digits\\nload_files\\nload_iris\\nload_linnerud\\nload_sample_image\\nload_sample_images\\nload_svmlight_file\\nload_svmlight_files\\nload_wine\\nmake_biclusters\\nmake_blobs\\nmake_checkerboard\\nmake_circles\\nmake_classification\\nmake_friedman1\\nmake_friedman2\\nmake_friedman3\\nmake_gaussian_quantiles\\nmake_hastie_10_2\\nmake_low_rank_matrix\\nmake_moons\\nmake_multilabel_classification\\nmake_regression\\nmake_s_curve\\nmake_sparse_coded_signal\\nmake_sparse_spd_matrix\\nmake_sparse_uncorrelated\\nmake_spd_matrix\\nmake_swiss_roll')]}"
      ]
     },
     "execution_count": 34,
     "metadata": {},
     "output_type": "execute_result"
    }
   ],
   "source": [
    "from langchain_core.messages import HumanMessage\n",
    "\n",
    "input_state = {\n",
    "    \"messages\": [HumanMessage(content=\"How to use cross-validation?\")]\n",
    "}\n",
    "\n",
    "\n",
    "response = await graph.ainvoke(input_state)\n",
    "response"
   ]
  },
  {
   "cell_type": "code",
   "execution_count": 35,
   "id": "46c9c13a",
   "metadata": {},
   "outputs": [
    {
     "name": "stdout",
     "output_type": "stream",
     "text": [
      "Cross-validation is a crucial part of fitting a model properly [22eedfc5-b836-e523-0fb1-25c22f739bb8]. There are many ways to split data into training and test sets in order to avoid model overfitting [22eedfc5-b836-e523-0fb1-25c22f739bb8].\n",
      "\n",
      "Here are some key points regarding the use of cross-validation:\n",
      "\n",
      "*   **Purpose**: Cross-validation is used to train a model where hyperparameters also need to be tuned [95abda7e-f797-83ba-cee1-6e09a331005f]. It helps avoid model overfitting [22eedfc5-b836-e523-0fb1-25c22f739bb8].\n",
      "*   **Visualization**: You can visualize cross-validation behavior using scikit-learn [c0ae0fb8-2a87-c214-9f1e-2bf1fe7527c9].\n",
      "*   **Prediction Errors**: `cross_val_predict` can be used together with `PredictionErrorDisplay` to visualize prediction errors [ccee5831-53d6-ad15-f1ec-5fc1f3d2a788]. As an example, you can load the diabetes dataset and create an instance of a linear regression model [ccee5831-53d6-ad15-f1ec-5fc1f3d2a788].\n",
      "*   **Nested vs. Non-Nested CV**: Nested cross-validation is often used to train a model in which hyperparameters also need to be tuned [95abda7e-f797-83ba-cee1-6e09a331005f].\n",
      "*   **Hyperparameter Tuning**: Cross-validation can optimize a classifier, which can be done using the `GridSearchCV` object on a development set [3aa438ba-7918-482e-5b1c-bb1e15ac1b08].\n",
      "*   **Data Splitting**: There are a number of cross-validation objects in scikit-learn that can be used to split data, including `GroupKFold`, `GroupShuffleSplit`, `KFold`, `ShuffleSplit`, `StratifiedGroupKFold`, `StratifiedKFold`, `StratifiedShuffleSplit`, and `TimeSeriesSplit` [22eedfc5-b836-e523-0fb1-25c22f739bb8].\n"
     ]
    }
   ],
   "source": [
    "final_response = response[\"messages\"][-1].content\n",
    "print(final_response)\n"
   ]
  },
  {
   "cell_type": "code",
   "execution_count": null,
   "id": "e6d6413c",
   "metadata": {},
   "outputs": [],
   "source": []
  }
 ],
 "metadata": {
  "kernelspec": {
   "display_name": "CDEnv",
   "language": "python",
   "name": "python3"
  },
  "language_info": {
   "codemirror_mode": {
    "name": "ipython",
    "version": 3
   },
   "file_extension": ".py",
   "mimetype": "text/x-python",
   "name": "python",
   "nbconvert_exporter": "python",
   "pygments_lexer": "ipython3",
   "version": "3.11.12"
  }
 },
 "nbformat": 4,
 "nbformat_minor": 5
}
