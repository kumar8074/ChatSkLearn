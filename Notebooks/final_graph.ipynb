{
 "cells": [
  {
   "cell_type": "markdown",
   "id": "c20d55e3",
   "metadata": {},
   "source": [
    "## This NoteBook contains the implementation of final Graph that is used for ChatSklearn Application"
   ]
  },
  {
   "cell_type": "code",
   "execution_count": 55,
   "id": "d13cddc0",
   "metadata": {},
   "outputs": [
    {
     "data": {
      "text/plain": [
       "True"
      ]
     },
     "execution_count": 55,
     "metadata": {},
     "output_type": "execute_result"
    }
   ],
   "source": [
    "import os\n",
    "from dotenv import load_dotenv\n",
    "from langchain_google_genai import ChatGoogleGenerativeAI\n",
    "from langchain_google_genai import GoogleGenerativeAIEmbeddings\n",
    "from dataclasses import dataclass, field\n",
    "from typing_extensions import Annotated, Any, Literal, Optional, Union\n",
    "from langchain_core.documents import Document\n",
    "import uuid\n",
    "import hashlib\n",
    "\n",
    "from langchain_core.documents import Document\n",
    "from langchain_core.runnables import RunnableConfig\n",
    "from langgraph.graph import StateGraph, START, END\n",
    "from langgraph.types import Send\n",
    "from typing_extensions import TypedDict, cast\n",
    "from langchain_chroma import Chroma\n",
    "from langchain_core.messages import AnyMessage\n",
    "from langgraph.graph import add_messages\n",
    "from typing_extensions import Any, Literal, TypedDict, cast\n",
    "\n",
    "from langchain_core.messages import BaseMessage\n",
    "from langchain_core.runnables import RunnableConfig\n",
    "from langgraph.graph import END, START, StateGraph\n",
    "load_dotenv()"
   ]
  },
  {
   "cell_type": "code",
   "execution_count": 56,
   "id": "5b67e0c3",
   "metadata": {},
   "outputs": [],
   "source": [
    "os.environ[\"GEMINI_API_KEY\"]=os.getenv(\"GOOGLE_API_KEY\")"
   ]
  },
  {
   "cell_type": "code",
   "execution_count": 57,
   "id": "32fa5e6d",
   "metadata": {},
   "outputs": [
    {
     "name": "stdout",
     "output_type": "stream",
     "text": [
      "/Users/sumi/Desktop\n"
     ]
    },
    {
     "name": "stderr",
     "output_type": "stream",
     "text": [
      "WARNING: All log messages before absl::InitializeLog() is called are written to STDERR\n",
      "I0000 00:00:1745577726.288491 15464160 fork_posix.cc:75] Other threads are currently calling into gRPC, skipping fork() handlers\n"
     ]
    }
   ],
   "source": [
    "os.chdir('../')\n",
    "!pwd"
   ]
  },
  {
   "cell_type": "code",
   "execution_count": 58,
   "id": "e8813350",
   "metadata": {},
   "outputs": [
    {
     "data": {
      "text/plain": [
       "AIMessage(content='Hi there! How can I help you today?', additional_kwargs={}, response_metadata={'prompt_feedback': {'block_reason': 0, 'safety_ratings': []}, 'finish_reason': 'STOP', 'model_name': 'gemini-2.0-flash', 'safety_ratings': []}, id='run-e5008d3f-fe88-4896-b326-9fd1cef526b7-0', usage_metadata={'input_tokens': 2, 'output_tokens': 11, 'total_tokens': 13, 'input_token_details': {'cache_read': 0}})"
      ]
     },
     "execution_count": 58,
     "metadata": {},
     "output_type": "execute_result"
    }
   ],
   "source": [
    "embeddings=GoogleGenerativeAIEmbeddings(model=\"models/text-embedding-004\")\n",
    "llm=ChatGoogleGenerativeAI(model=\"gemini-2.0-flash\")\n",
    "\n",
    "llm.invoke(\"Hi!\")"
   ]
  },
  {
   "cell_type": "markdown",
   "id": "d957e1d2",
   "metadata": {},
   "source": [
    "## 1. State Schemas of ResearcherGraph"
   ]
  },
  {
   "cell_type": "code",
   "execution_count": 59,
   "id": "457fb0c4",
   "metadata": {},
   "outputs": [],
   "source": [
    "def _generate_uuid(page_content: str) -> str:\n",
    "    \"\"\"Generate a UUID for a document based on page content.\"\"\"\n",
    "    md5_hash = hashlib.md5(page_content.encode()).hexdigest()\n",
    "    return str(uuid.UUID(md5_hash))\n",
    "\n",
    "\n",
    "def reduce_docs(\n",
    "    existing: Optional[list[Document]],\n",
    "    new: Union[\n",
    "        list[Document],\n",
    "        list[dict[str, Any]],\n",
    "        list[str],\n",
    "        str,\n",
    "        Literal[\"delete\"],\n",
    "    ],\n",
    ") -> list[Document]:\n",
    "    \"\"\"Reduce and process documents based on the input type.\n",
    "\n",
    "    This function handles various input types and converts them into a sequence of Document objects.\n",
    "    It can delete existing documents, create new ones from strings or dictionaries, or return the existing documents.\n",
    "    It also combines existing documents with the new one based on the document ID.\n",
    "\n",
    "    Args:\n",
    "        existing (Optional[Sequence[Document]]): The existing docs in the state, if any.\n",
    "        new (Union[Sequence[Document], Sequence[dict[str, Any]], Sequence[str], str, Literal[\"delete\"]]):\n",
    "            The new input to process. Can be a sequence of Documents, dictionaries, strings, a single string,\n",
    "            or the literal \"delete\".\n",
    "    \"\"\"\n",
    "    if new == \"delete\":\n",
    "        return []\n",
    "\n",
    "    existing_list = list(existing) if existing else []\n",
    "    if isinstance(new, str):\n",
    "        return existing_list + [\n",
    "            Document(page_content=new, metadata={\"uuid\": _generate_uuid(new)})\n",
    "        ]\n",
    "\n",
    "    new_list = []\n",
    "    if isinstance(new, list):\n",
    "        existing_ids = set(doc.metadata.get(\"uuid\") for doc in existing_list)\n",
    "        for item in new:\n",
    "            if isinstance(item, str):\n",
    "                item_id = _generate_uuid(item)\n",
    "                new_list.append(Document(page_content=item, metadata={\"uuid\": item_id}))\n",
    "                existing_ids.add(item_id)\n",
    "\n",
    "            elif isinstance(item, dict):\n",
    "                metadata = item.get(\"metadata\", {})\n",
    "                item_id = metadata.get(\"uuid\") or _generate_uuid(\n",
    "                    item.get(\"page_content\", \"\")\n",
    "                )\n",
    "\n",
    "                if item_id not in existing_ids:\n",
    "                    new_list.append(\n",
    "                        Document(**{**item, \"metadata\": {**metadata, \"uuid\": item_id}})\n",
    "                    )\n",
    "                    existing_ids.add(item_id)\n",
    "\n",
    "            elif isinstance(item, Document):\n",
    "                item_id = item.metadata.get(\"uuid\", \"\")\n",
    "                if not item_id:\n",
    "                    item_id = _generate_uuid(item.page_content)\n",
    "                    new_item = item.model_copy(deep=True)\n",
    "                    new_item.metadata[\"uuid\"] = item_id\n",
    "                else:\n",
    "                    new_item = item\n",
    "\n",
    "                if item_id not in existing_ids:\n",
    "                    new_list.append(new_item)\n",
    "                    existing_ids.add(item_id)\n",
    "\n",
    "    return existing_list + new_list\n"
   ]
  },
  {
   "cell_type": "code",
   "execution_count": 60,
   "id": "6b14708d",
   "metadata": {},
   "outputs": [],
   "source": [
    "@dataclass(kw_only=True)\n",
    "class QueryState:\n",
    "    \"Private state for the retrieve_documents node in the researcher graph\"\n",
    "    query: str\n",
    "    \n",
    "  \n",
    "@dataclass(kw_only=True)\n",
    "class ResearcherState:\n",
    "    \"State of the researcher graph\"\n",
    "    question: str\n",
    "    queries: list[str]= field(default_factory=list) \n",
    "    documents: Annotated[list[Document], reduce_docs]=field(default_factory=list)\n",
    "    "
   ]
  },
  {
   "cell_type": "markdown",
   "id": "7f2b230c",
   "metadata": {},
   "source": [
    "## 2. Prompt for ResearcherGraph"
   ]
  },
  {
   "cell_type": "code",
   "execution_count": 61,
   "id": "739d26dc",
   "metadata": {},
   "outputs": [],
   "source": [
    "GENERATE_QUERIES_SYSTEM_PROMPT = \"\"\"\\\n",
    "Generate 3 search queries to search for to answer the user's question. \\\n",
    "These search queries should be diverse in nature - do not generate \\\n",
    "repetitive ones.\"\"\""
   ]
  },
  {
   "cell_type": "markdown",
   "id": "01687326",
   "metadata": {},
   "source": [
    "## 3. Nodes of ResearcherGraph"
   ]
  },
  {
   "cell_type": "code",
   "execution_count": 62,
   "id": "2249f72a",
   "metadata": {},
   "outputs": [],
   "source": [
    "# Genrate queries node\n",
    "async def generate_queries(\n",
    "    state: ResearcherState, *, config: RunnableConfig\n",
    "    )-> dict[str, list[str]]:\n",
    "    \"\"\"Generate search queries based on the question (a step in the research plan).\"\"\"\n",
    "    \n",
    "    class Response(TypedDict):\n",
    "        queries: list[str]\n",
    "        \n",
    "    model=llm.with_structured_output(Response)\n",
    "    messages=[\n",
    "        {\"role\": \"system\", \"content\": GENERATE_QUERIES_SYSTEM_PROMPT},\n",
    "        {\"role\": \"human\", \"content\": state.question},\n",
    "    ]\n",
    "    response= cast(Response, await model.ainvoke(messages))\n",
    "    return {\"queries\": response[\"queries\"]}\n"
   ]
  },
  {
   "cell_type": "markdown",
   "id": "82635171",
   "metadata": {},
   "source": [
    "## 3.1 Creating Retriever"
   ]
  },
  {
   "cell_type": "code",
   "execution_count": 63,
   "id": "ce95c77a",
   "metadata": {},
   "outputs": [],
   "source": [
    "# Load the persisted directory\n",
    "db = Chroma(persist_directory=\"DATA/chroma_store\",\n",
    "            embedding_function=embeddings)\n",
    "\n",
    "# Convert it into a retriever\n",
    "retriever = db.as_retriever()"
   ]
  },
  {
   "cell_type": "code",
   "execution_count": 64,
   "id": "7672643b",
   "metadata": {},
   "outputs": [
    {
     "name": "stdout",
     "output_type": "stream",
     "text": [
      "28507\n"
     ]
    }
   ],
   "source": [
    "print(db._collection.count())"
   ]
  },
  {
   "cell_type": "code",
   "execution_count": 65,
   "id": "a68716c8",
   "metadata": {},
   "outputs": [
    {
     "data": {
      "text/plain": [
       "[Document(id='6ff74092-ab0e-4fe8-97b0-1be3a7dc4be2', metadata={'description': 'Choosing the right cross-validation object is a crucial part of fitting a model properly. There are many ways to split data into training and test sets in order to avoid model overfitting, to stand...', 'language': 'en', 'source': 'https://scikit-learn.org/stable/auto_examples/model_selection/plot_cv_indices.html', 'title': 'Visualizing cross-validation behavior in scikit-learn — scikit-learn 1.6.1 documentation'}, page_content='import matplotlib.pyplot as plt\\nimport numpy as np\\nfrom matplotlib.patches import Patch\\n\\nfrom sklearn.model_selection import (\\n    GroupKFold,\\n    GroupShuffleSplit,\\n    KFold,\\n    ShuffleSplit,\\n    StratifiedGroupKFold,\\n    StratifiedKFold,\\n    StratifiedShuffleSplit,\\n    TimeSeriesSplit,\\n)\\n\\nrng = np.random.RandomState(1338)\\ncmap_data = plt.cm.Paired\\ncmap_cv = plt.cm.coolwarm\\nn_splits = 4\\n\\n\\n\\nVisualize our data#\\nFirst, we must understand the structure of our data. It has 100 randomly\\ngenerated input datapoints, 3 classes split unevenly across datapoints,\\nand 10 “groups” split evenly across datapoints.\\nAs we’ll see, some cross-validation objects do specific things with\\nlabeled data, others behave differently with grouped data, and others\\ndo not use this information.\\nTo begin, we’ll visualize our data.\\n# Generate the class/group data\\nn_points = 100\\nX = rng.randn(100, 10)'),\n",
       " Document(id='1f3f80ae-a7f1-430a-adc5-e52be01e2eb4', metadata={'description': 'Choosing the right cross-validation object is a crucial part of fitting a model properly. There are many ways to split data into training and test sets in order to avoid model overfitting, to stand...', 'language': 'en', 'source': 'https://scikit-learn.org/stable/auto_examples/model_selection/plot_cv_indices.html', 'title': 'Visualizing cross-validation behavior in scikit-learn — scikit-learn 1.6.1 documentation'}, page_content='for cv in cvs:\\n    this_cv = cv(n_splits=n_splits)\\n    fig, ax = plt.subplots(figsize=(6, 3))\\n    plot_cv_indices(this_cv, X, y, groups, ax, n_splits)\\n\\n    ax.legend(\\n        [Patch(color=cmap_cv(0.8)), Patch(color=cmap_cv(0.02))],\\n        [\"Testing set\", \"Training set\"],\\n        loc=(1.02, 0.8),\\n    )\\n    # Make the legend fit\\n    plt.tight_layout()\\n    fig.subplots_adjust(right=0.7)\\nplt.show()\\n\\n\\n\\n\\n\\n\\n\\n\\n\\n\\n\\n\\nTotal running time of the script: (0 minutes 1.339 seconds)\\n\\n\\n\\n\\n\\n\\n\\n\\n\\n\\nDownload Jupyter notebook: plot_cv_indices.ipynb\\n\\n\\nDownload Python source code: plot_cv_indices.py\\n\\n\\nDownload zipped: plot_cv_indices.zip\\n\\n\\nRelated examples\\n\\nNested versus non-nested cross-validation\\nNested versus non-nested cross-validation\\n\\nRecursive feature elimination with cross-validation\\nRecursive feature elimination with cross-validation\\n\\nReceiver Operating Characteristic (ROC) with cross validation\\nReceiver Operating Characteristic (ROC) with cross validation'),\n",
       " Document(id='e8b3a7ff-b243-4eab-a3f8-761660f3c5ff', metadata={'description': 'A Recursive Feature Elimination (RFE) example with automatic tuning of the number of features selected with cross-validation. Data generation: We build a classification task using 3 informative fea...', 'language': 'en', 'source': 'https://scikit-learn.org/stable/auto_examples/feature_selection/plot_rfe_with_cross_validation.html', 'title': 'Recursive feature elimination with cross-validation — scikit-learn 1.6.1 documentation'}, page_content='Download zipped: plot_rfe_with_cross_validation.zip\\n\\n\\nRelated examples\\n\\nBalance model complexity and cross-validated score\\nBalance model complexity and cross-validated score\\n\\nCustom refit strategy of a grid search with cross-validation\\nCustom refit strategy of a grid search with cross-validation\\n\\nPipeline ANOVA SVM\\nPipeline ANOVA SVM\\n\\nPost-hoc tuning the cut-off point of decision function\\nPost-hoc tuning the cut-off point of decision function\\nGallery generated by Sphinx-Gallery\\n\\n\\n\\n\\n\\n\\n\\n\\n\\n\\nprevious\\nRecursive feature elimination\\n\\n\\n\\n\\nnext\\nUnivariate Feature Selection\\n\\n\\n\\n\\n\\n\\n\\n\\n\\n\\n\\n On this page\\n  \\n\\n\\nData generation\\nModel training and selection\\nPlot number of features VS. cross-validation scores\\n\\n\\n\\n\\nThis Page\\n\\nShow Source\\n\\n\\n\\n\\n\\n\\n\\n            Download source code\\n          \\n\\n\\n\\n\\n            Download Jupyter notebook\\n          \\n\\n\\n\\n\\n            Download zipped\\n          \\n\\n\\n\\n\\n\\n\\n\\n\\n\\n\\n\\n\\n\\n\\n\\n\\n\\n\\n\\n\\n\\n\\n\\n\\n\\n\\n\\n\\n\\n\\n\\n\\n    \\n      © Copyright 2007 - 2025, scikit-learn developers (BSD License).'),\n",
       " Document(id='468e4127-b6be-4b7c-ab72-1449f8cf0c4a', metadata={'description': 'This examples shows how a classifier is optimized by cross-validation, which is done using the GridSearchCV object on a development set that comprises only half of the available labeled data. The p...', 'language': 'en', 'source': 'https://scikit-learn.org/stable/auto_examples/model_selection/plot_grid_search_digits.html', 'title': 'Custom refit strategy of a grid search with cross-validation — scikit-learn 1.6.1 documentation'}, page_content='Recursive feature elimination with cross-validation\\nRecursive feature elimination with cross-validation\\nGallery generated by Sphinx-Gallery\\n\\n\\n\\n\\n\\n\\n\\n\\n\\n\\nprevious\\nConfusion matrix\\n\\n\\n\\n\\nnext\\nDemonstration of multi-metric evaluation on cross_val_score and GridSearchCV\\n\\n\\n\\n\\n\\n\\n\\n\\n\\n\\n\\n On this page\\n  \\n\\n\\nThe dataset\\nDefine our grid-search strategy\\nTuning hyper-parameters\\n\\n\\n\\n\\nThis Page\\n\\nShow Source\\n\\n\\n\\n\\n\\n\\n\\n            Download source code\\n          \\n\\n\\n\\n\\n            Download Jupyter notebook\\n          \\n\\n\\n\\n\\n            Download zipped\\n          \\n\\n\\n\\n\\n\\n\\n\\n\\n\\n\\n\\n\\n\\n\\n\\n\\n\\n\\n\\n\\n\\n\\n\\n\\n\\n\\n\\n\\n\\n\\n\\n\\n    \\n      © Copyright 2007 - 2025, scikit-learn developers (BSD License).')]"
      ]
     },
     "execution_count": 65,
     "metadata": {},
     "output_type": "execute_result"
    }
   ],
   "source": [
    "retriever.invoke(\"How to perform cross-validation?\")"
   ]
  },
  {
   "cell_type": "code",
   "execution_count": 66,
   "id": "319a89d7",
   "metadata": {},
   "outputs": [],
   "source": [
    "# retrieve documents node\n",
    "async def retrieve_documents(\n",
    "    state: QueryState, *, config: RunnableConfig\n",
    "    )-> dict[str, list[Document]]:\n",
    "    \"\"\"Retrieve documents based on a given query.\"\"\"\n",
    "    \n",
    "    response=await retriever.ainvoke(state.query,config)\n",
    "    return {\"documents\": response}"
   ]
  },
  {
   "cell_type": "code",
   "execution_count": 67,
   "id": "4e03437c",
   "metadata": {},
   "outputs": [],
   "source": [
    "# retrieve documents in parallel\n",
    "def retrieve_in_parallel(state: ResearcherState)-> list[Send]:\n",
    "    \"\"\"Create parallel retrieval tasks for each generated query.\"\"\"\n",
    "    return [\n",
    "        Send(\"retrieve_documents\", QueryState(query=query)) for query in state.queries\n",
    "    ]"
   ]
  },
  {
   "cell_type": "markdown",
   "id": "84d32cc2",
   "metadata": {},
   "source": [
    "## 4. ResearcherGraph definition"
   ]
  },
  {
   "cell_type": "code",
   "execution_count": 68,
   "id": "c1f140bb",
   "metadata": {},
   "outputs": [
    {
     "data": {
      "image/png": "[encoded data removed]",
      "text/plain": [
       "<langgraph.graph.state.CompiledStateGraph object at 0x124988ca0>"
      ]
     },
     "execution_count": 68,
     "metadata": {},
     "output_type": "execute_result"
    }
   ],
   "source": [
    "builder = StateGraph(ResearcherState)\n",
    "builder.add_node(generate_queries)\n",
    "builder.add_node(retrieve_documents)\n",
    "builder.add_edge(START, \"generate_queries\")\n",
    "builder.add_conditional_edges(\n",
    "    \"generate_queries\",\n",
    "    retrieve_in_parallel,  # type: ignore\n",
    "    path_map=[\"retrieve_documents\"],\n",
    ")\n",
    "builder.add_edge(\"retrieve_documents\", END)\n",
    "# Compile into a graph object that you can invoke and deploy.\n",
    "researcher_graph = builder.compile()\n",
    "researcher_graph.name = \"ResearcherGraph\"\n",
    "researcher_graph"
   ]
  },
  {
   "cell_type": "markdown",
   "id": "144bf17c",
   "metadata": {},
   "source": [
    "## 5. Invoking the Graph"
   ]
  },
  {
   "cell_type": "code",
   "execution_count": 69,
   "id": "17d80bc2",
   "metadata": {},
   "outputs": [
    {
     "name": "stderr",
     "output_type": "stream",
     "text": [
      "/Users/sumi/miniforge3/envs/CDEnv/lib/python3.10/site-packages/langchain_google_genai/chat_models.py:1410: UserWarning: ChatGoogleGenerativeAI.with_structured_output with dict schema has changed recently to align with behavior of other LangChain chat models. More context: https://github.com/langchain-ai/langchain-google/pull/772\n",
      "  warnings.warn(\n"
     ]
    },
    {
     "data": {
      "text/plain": [
       "{'question': 'How to perform cross-validation?',\n",
       " 'queries': ['cross validation techniques',\n",
       "  'cross validation implementation',\n",
       "  'benefits of cross validation'],\n",
       " 'documents': [Document(id='0cae92ed-da4f-4d81-80b2-1142431443ef', metadata={'description': 'Learning the parameters of a prediction function and testing it on the same data is a methodological mistake: a model that would just repeat the labels of the samples that it has just seen would ha...', 'language': 'en', 'source': 'https://scikit-learn.org/stable/modules/cross_validation.html', 'title': '3.1. Cross-validation: evaluating estimator performance — scikit-learn 1.6.1 documentation', 'uuid': 'a116f471-bf72-67c9-d3f5-a383635b7806'}, page_content='which can be used for learning the model,\\nand the results can depend on a particular random choice for the pair of\\n(train, validation) sets.\\nA solution to this problem is a procedure called\\ncross-validation\\n(CV for short).\\nA test set should still be held out for final evaluation,\\nbut the validation set is no longer needed when doing CV.\\nIn the basic approach, called k-fold CV,\\nthe training set is split into k smaller sets\\n(other approaches are described below,\\nbut generally follow the same principles).\\nThe following procedure is followed for each of the k “folds”:'),\n",
       "  Document(id='13620bcf-c487-471f-a832-1f5573a2a0e7', metadata={'description': 'Learning the parameters of a prediction function and testing it on the same data is a methodological mistake: a model that would just repeat the labels of the samples that it has just seen would ha...', 'language': 'en', 'source': 'https://scikit-learn.org/stable/modules/cross_validation.html', 'title': '3.1. Cross-validation: evaluating estimator performance — scikit-learn 1.6.1 documentation', 'uuid': 'c602cb38-31b0-b05e-e7d4-e0604ae7dcde'}, page_content='References#\\n\\nhttp://www.faqs.org/faqs/ai-faq/neural-nets/part3/section-12.html;\\nT. Hastie, R. Tibshirani, J. Friedman,  The Elements of Statistical Learning, Springer 2009\\nL. Breiman, P. Spector Submodel selection and evaluation in regression: The X-random case, International Statistical Review 1992;\\nR. Kohavi, A Study of Cross-Validation and Bootstrap for Accuracy Estimation and Model Selection, Intl. Jnt. Conf. AI\\nR. Bharat Rao, G. Fung, R. Rosales, On the Dangers of Cross-Validation. An Experimental Evaluation, SIAM 2008;\\nG. James, D. Witten, T. Hastie, R Tibshirani, An Introduction to\\nStatistical Learning, Springer 2013.'),\n",
       "  Document(id='4c8874f1-e887-4620-91ee-5677cfe8a487', metadata={'description': 'Learning the parameters of a prediction function and testing it on the same data is a methodological mistake: a model that would just repeat the labels of the samples that it has just seen would ha...', 'language': 'en', 'source': 'https://scikit-learn.org/stable/modules/cross_validation.html', 'title': '3.1. Cross-validation: evaluating estimator performance — scikit-learn 1.6.1 documentation', 'uuid': 'b4247dbe-3220-9338-1958-b28b832d849a'}, page_content='For more details on how to control the randomness of cv splitters and avoid\\ncommon pitfalls, see Controlling randomness.\\n\\n\\n3.1.4. Cross validation and model selection#\\nCross validation iterators can also be used to directly perform model\\nselection using Grid Search for the optimal hyperparameters of the\\nmodel. This is the topic of the next section: Tuning the hyper-parameters of an estimator.'),\n",
       "  Document(id='e3d51845-2983-4680-b44c-8e40ce5c8b2f', metadata={'description': 'Learning the parameters of a prediction function and testing it on the same data is a methodological mistake: a model that would just repeat the labels of the samples that it has just seen would ha...', 'language': 'en', 'source': 'https://scikit-learn.org/stable/modules/cross_validation.html', 'title': '3.1. Cross-validation: evaluating estimator performance — scikit-learn 1.6.1 documentation', 'uuid': 'bf134e27-ee0b-cdfb-1f46-f91d3f327f36'}, page_content='The function cross_val_predict is appropriate for:\\nVisualization of predictions obtained from different models.\\nModel blending: When predictions of one supervised estimator are used to\\ntrain another estimator in ensemble methods.\\n\\n\\n\\nThe available cross validation iterators are introduced in the following\\nsection.\\nExamples\\n\\nReceiver Operating Characteristic (ROC) with cross validation,\\nRecursive feature elimination with cross-validation,\\nCustom refit strategy of a grid search with cross-validation,\\nSample pipeline for text feature extraction and evaluation,\\nPlotting Cross-Validated Predictions,\\nNested versus non-nested cross-validation.\\n\\n\\n\\n\\n3.1.2. Cross validation iterators#\\nThe following sections list utilities to generate indices\\nthat can be used to generate dataset splits according to different cross\\nvalidation strategies.'),\n",
       "  Document(id='1f3f80ae-a7f1-430a-adc5-e52be01e2eb4', metadata={'description': 'Choosing the right cross-validation object is a crucial part of fitting a model properly. There are many ways to split data into training and test sets in order to avoid model overfitting, to stand...', 'language': 'en', 'source': 'https://scikit-learn.org/stable/auto_examples/model_selection/plot_cv_indices.html', 'title': 'Visualizing cross-validation behavior in scikit-learn — scikit-learn 1.6.1 documentation', 'uuid': '554a29b4-dd8e-8cc6-bb04-0787debc3f39'}, page_content='for cv in cvs:\\n    this_cv = cv(n_splits=n_splits)\\n    fig, ax = plt.subplots(figsize=(6, 3))\\n    plot_cv_indices(this_cv, X, y, groups, ax, n_splits)\\n\\n    ax.legend(\\n        [Patch(color=cmap_cv(0.8)), Patch(color=cmap_cv(0.02))],\\n        [\"Testing set\", \"Training set\"],\\n        loc=(1.02, 0.8),\\n    )\\n    # Make the legend fit\\n    plt.tight_layout()\\n    fig.subplots_adjust(right=0.7)\\nplt.show()\\n\\n\\n\\n\\n\\n\\n\\n\\n\\n\\n\\n\\nTotal running time of the script: (0 minutes 1.339 seconds)\\n\\n\\n\\n\\n\\n\\n\\n\\n\\n\\nDownload Jupyter notebook: plot_cv_indices.ipynb\\n\\n\\nDownload Python source code: plot_cv_indices.py\\n\\n\\nDownload zipped: plot_cv_indices.zip\\n\\n\\nRelated examples\\n\\nNested versus non-nested cross-validation\\nNested versus non-nested cross-validation\\n\\nRecursive feature elimination with cross-validation\\nRecursive feature elimination with cross-validation\\n\\nReceiver Operating Characteristic (ROC) with cross validation\\nReceiver Operating Characteristic (ROC) with cross validation'),\n",
       "  Document(id='6ff74092-ab0e-4fe8-97b0-1be3a7dc4be2', metadata={'description': 'Choosing the right cross-validation object is a crucial part of fitting a model properly. There are many ways to split data into training and test sets in order to avoid model overfitting, to stand...', 'language': 'en', 'source': 'https://scikit-learn.org/stable/auto_examples/model_selection/plot_cv_indices.html', 'title': 'Visualizing cross-validation behavior in scikit-learn — scikit-learn 1.6.1 documentation', 'uuid': '22eedfc5-b836-e523-0fb1-25c22f739bb8'}, page_content='import matplotlib.pyplot as plt\\nimport numpy as np\\nfrom matplotlib.patches import Patch\\n\\nfrom sklearn.model_selection import (\\n    GroupKFold,\\n    GroupShuffleSplit,\\n    KFold,\\n    ShuffleSplit,\\n    StratifiedGroupKFold,\\n    StratifiedKFold,\\n    StratifiedShuffleSplit,\\n    TimeSeriesSplit,\\n)\\n\\nrng = np.random.RandomState(1338)\\ncmap_data = plt.cm.Paired\\ncmap_cv = plt.cm.coolwarm\\nn_splits = 4\\n\\n\\n\\nVisualize our data#\\nFirst, we must understand the structure of our data. It has 100 randomly\\ngenerated input datapoints, 3 classes split unevenly across datapoints,\\nand 10 “groups” split evenly across datapoints.\\nAs we’ll see, some cross-validation objects do specific things with\\nlabeled data, others behave differently with grouped data, and others\\ndo not use this information.\\nTo begin, we’ll visualize our data.\\n# Generate the class/group data\\nn_points = 100\\nX = rng.randn(100, 10)'),\n",
       "  Document(id='468e4127-b6be-4b7c-ab72-1449f8cf0c4a', metadata={'description': 'This examples shows how a classifier is optimized by cross-validation, which is done using the GridSearchCV object on a development set that comprises only half of the available labeled data. The p...', 'language': 'en', 'source': 'https://scikit-learn.org/stable/auto_examples/model_selection/plot_grid_search_digits.html', 'title': 'Custom refit strategy of a grid search with cross-validation — scikit-learn 1.6.1 documentation', 'uuid': '3aa438ba-7918-482e-5b1c-bb1e15ac1b08'}, page_content='Recursive feature elimination with cross-validation\\nRecursive feature elimination with cross-validation\\nGallery generated by Sphinx-Gallery\\n\\n\\n\\n\\n\\n\\n\\n\\n\\n\\nprevious\\nConfusion matrix\\n\\n\\n\\n\\nnext\\nDemonstration of multi-metric evaluation on cross_val_score and GridSearchCV\\n\\n\\n\\n\\n\\n\\n\\n\\n\\n\\n\\n On this page\\n  \\n\\n\\nThe dataset\\nDefine our grid-search strategy\\nTuning hyper-parameters\\n\\n\\n\\n\\nThis Page\\n\\nShow Source\\n\\n\\n\\n\\n\\n\\n\\n            Download source code\\n          \\n\\n\\n\\n\\n            Download Jupyter notebook\\n          \\n\\n\\n\\n\\n            Download zipped\\n          \\n\\n\\n\\n\\n\\n\\n\\n\\n\\n\\n\\n\\n\\n\\n\\n\\n\\n\\n\\n\\n\\n\\n\\n\\n\\n\\n\\n\\n\\n\\n\\n\\n    \\n      © Copyright 2007 - 2025, scikit-learn developers (BSD License).'),\n",
       "  Document(id='2de99d0d-d56b-4111-91c7-a2955a5c035e', metadata={'description': 'Choosing the right cross-validation object is a crucial part of fitting a model properly. There are many ways to split data into training and test sets in order to avoid model overfitting, to stand...', 'language': 'en', 'source': 'https://scikit-learn.org/stable/auto_examples/model_selection/plot_cv_indices.html', 'title': 'Visualizing cross-validation behavior in scikit-learn — scikit-learn 1.6.1 documentation', 'uuid': 'c0ae0fb8-2a87-c214-9f1e-2bf1fe7527c9'}, page_content='Visualizing cross-validation behavior in scikit-learn — scikit-learn 1.6.1 documentation\\n\\n\\n\\n\\n\\n\\n\\n\\n\\n\\n\\n\\n\\n\\n\\n\\n\\n\\n\\n\\n\\n\\n\\n\\n\\n\\n\\n\\n\\n\\n\\n\\n\\n\\n\\n\\n\\n\\n\\n\\n\\n\\n\\n\\n\\n\\n\\n\\n\\nSkip to main content\\n\\n\\nBack to top\\n\\n\\n\\n\\nCtrl+K\\n\\n\\n\\n\\n\\n\\n\\n\\n\\n\\n\\n\\n\\n\\n\\n\\n\\n\\n\\n\\n\\n\\n\\n\\n    Install\\n  \\n\\n\\n\\n    User Guide\\n  \\n\\n\\n\\n    API\\n  \\n\\n\\n\\n    Examples\\n  \\n\\n\\n\\n    Community\\n  \\n\\n\\n\\n                    More\\n                \\n\\n\\n\\n    Getting Started\\n  \\n\\n\\n\\n    Release History\\n  \\n\\n\\n\\n    Glossary\\n  \\n\\n\\n\\n    Development\\n  \\n\\n\\n\\n    FAQ\\n  \\n\\n\\n\\n    Support\\n  \\n\\n\\n\\n    Related Projects\\n  \\n\\n\\n\\n    Roadmap\\n  \\n\\n\\n\\n    Governance\\n  \\n\\n\\n\\n    About us\\n  \\n\\n\\n\\n\\n\\n\\n\\n\\n\\n\\n\\n\\n\\n\\n\\n\\n\\n\\n\\n\\n\\nGitHub\\n\\n\\n\\n\\n\\n    Choose version  \\n\\n\\n\\n\\n\\n\\n\\n\\n\\n\\n\\n\\n\\n\\n\\n\\n\\n\\n\\n\\n\\n\\n\\n\\n\\n\\n\\n\\n\\n    Install\\n  \\n\\n\\n\\n    User Guide\\n  \\n\\n\\n\\n    API\\n  \\n\\n\\n\\n    Examples\\n  \\n\\n\\n\\n    Community\\n  \\n\\n\\n\\n    Getting Started\\n  \\n\\n\\n\\n    Release History\\n  \\n\\n\\n\\n    Glossary\\n  \\n\\n\\n\\n    Development\\n  \\n\\n\\n\\n    FAQ\\n  \\n\\n\\n\\n    Support\\n  \\n\\n\\n\\n    Related Projects\\n  \\n\\n\\n\\n    Roadmap\\n  \\n\\n\\n\\n    Governance\\n  \\n\\n\\n\\n    About us\\n  \\n\\n\\n\\n\\n\\n\\n\\n\\n\\n\\n\\n\\n\\n\\nGitHub\\n\\n\\n\\n\\n\\n    Choose version'),\n",
       "  Document(id='c4eb585e-0363-4a81-a5ae-f9c6d2054424', metadata={'description': 'This example is based on Section 5.4.3 of “Gaussian Processes for Machine Learning” 1. It illustrates an example of complex kernel engineering and hyperparameter optimization using gradient ascent ...', 'language': 'en', 'source': 'https://scikit-learn.org/stable/auto_examples/gaussian_process/plot_gpr_co2.html', 'title': 'Forecasting of CO2 level on Mona Loa dataset using Gaussian process regression (GPR) — scikit-learn 1.6.1 documentation', 'uuid': '8aaa29a9-4e12-31bb-741f-9676dcdd50f7'}, page_content='Model Selection\\nBalance model complexity and cross-validated score\\nClass Likelihood Ratios to measure classification performance\\nComparing randomized search and grid search for hyperparameter estimation\\nComparison between grid search and successive halving\\nConfusion matrix\\nCustom refit strategy of a grid search with cross-validation\\nDemonstration of multi-metric evaluation on cross_val_score and GridSearchCV\\nDetection error tradeoff (DET) curve\\nEffect of model regularization on training and test error\\nMulticlass Receiver Operating Characteristic (ROC)\\nNested versus non-nested cross-validation\\nPlotting Cross-Validated Predictions\\nPlotting Learning Curves and Checking Models’ Scalability\\nPost-hoc tuning the cut-off point of decision function\\nPost-tuning the decision threshold for cost-sensitive learning\\nPrecision-Recall\\nReceiver Operating Characteristic (ROC) with cross validation\\nSample pipeline for text feature extraction and evaluation')]}"
      ]
     },
     "execution_count": 69,
     "metadata": {},
     "output_type": "execute_result"
    }
   ],
   "source": [
    "state = ResearcherState(question=\"How to perform cross-validation?\")\n",
    "final_state = await researcher_graph.ainvoke(state)\n",
    "\n",
    "final_state"
   ]
  },
  {
   "cell_type": "markdown",
   "id": "057c2630",
   "metadata": {},
   "source": [
    "## 6. State schemas for RetrirvalGraph"
   ]
  },
  {
   "cell_type": "code",
   "execution_count": 70,
   "id": "101f09fd",
   "metadata": {},
   "outputs": [],
   "source": [
    "@dataclass(kw_only=True)\n",
    "class InputState:\n",
    "    \"\"\"Represents the input state for the agent\"\"\"\n",
    "    messages: Annotated[list[AnyMessage], add_messages]\n",
    "    \n",
    "    \n",
    "class Router(TypedDict):\n",
    "    \"\"\"Classifu user query\"\"\"\n",
    "    logic: str\n",
    "    type: Literal[\"more-info\", \"scikit-learn\", \"general\"]\n",
    "    \n",
    "\n",
    "@dataclass(kw_only=True)\n",
    "class AgentState(InputState):\n",
    "    \"\"\"State of the retrieval graph\"\"\"\n",
    "    router: Router=field(default_factory=lambda: Router(type=\"general\", logic=\"\"))\n",
    "    steps: list[str]=field(default_factory=list)\n",
    "    documents: Annotated[list[Document], reduce_docs]=field(default_factory=list)\n",
    "    \n"
   ]
  },
  {
   "cell_type": "markdown",
   "id": "253ef79e",
   "metadata": {},
   "source": [
    "## 7. Prompts for RetrievalGraph"
   ]
  },
  {
   "cell_type": "code",
   "execution_count": 71,
   "id": "d4fa0aa5",
   "metadata": {},
   "outputs": [],
   "source": [
    "ROUTER_SYSTEM_PROMPT = \"\"\"You are a Scikit-learn Developer advocate. Your job is help people using Scikit-learn answer any issues they are running into.\n",
    "\n",
    "A user will come to you with an inquiry. Your first job is to classify what type of inquiry it is. The types of inquiries you should classify it as are:\n",
    "\n",
    "## `more-info`\n",
    "Classify a user inquiry as this if you need more information before you will be able to help them. Examples include:\n",
    "- The user complains about an error but doesn't provide the error\n",
    "- The user says something isn't working but doesn't explain why/how it's not working\n",
    "\n",
    "## `scikit-learn`\n",
    "Classify a user inquiry as this if it can be answered by looking up information related to Scikit-learn open source package. The Scikit-learn open source package \\\n",
    "is a python library. It is a collection of algorithms and tools for machine learning. \\\n",
    "\n",
    "## `general`\n",
    "Classify a user inquiry as this if it is just a general question\"\"\"\n"
   ]
  },
  {
   "cell_type": "code",
   "execution_count": 72,
   "id": "8a533102",
   "metadata": {},
   "outputs": [],
   "source": [
    "GENERAL_SYSTEM_PROMPT = \"\"\"You are a Scikit-learn Developer advocate. Your job is help people using Scikit-learn answer any issues they are running into.\n",
    "\n",
    "Your boss has determined that the user is asking a general question, not one related to Scikit-learn. This was their logic:\n",
    "\n",
    "<logic>\n",
    "{logic}\n",
    "</logic>\n",
    "\n",
    "Respond to the user. Politely decline to answer and tell them you can only answer questions about Scikit-learn related topics, and that if their question is about scikit-learn they should clarify how it is.\\\n",
    "Be nice to them though - they are still a user!\"\"\"\n"
   ]
  },
  {
   "cell_type": "code",
   "execution_count": 73,
   "id": "e319e1f4",
   "metadata": {},
   "outputs": [],
   "source": [
    "MORE_INFO_SYSTEM_PROMPT = \"\"\"You are a Scikit-learn Developer advocate. Your job is help people using Scikit-learn answer any issues they are running into.\n",
    "\n",
    "Your boss has determined that more information is needed before doing any research on behalf of the user. This was their logic:\n",
    "\n",
    "<logic>\n",
    "{logic}\n",
    "</logic>\n",
    "\n",
    "Respond to the user and try to get any more relevant information. Do not overwhelm them! Be nice, and only ask them a single follow up question.\"\"\"\n",
    "\n"
   ]
  },
  {
   "cell_type": "code",
   "execution_count": 74,
   "id": "4cdfbfb8",
   "metadata": {},
   "outputs": [],
   "source": [
    "RESEARCH_PLAN_SYSTEM_PROMPT = \"\"\"You are a Scikit-learn expert and a world-class researcher, here to assist with any and all questions or issues with Scikit-learn, Machine Learning, Data Science, or any related functionality. Users may come to you with questions or issues.\n",
    "\n",
    "Based on the conversation below, generate a plan for how you will research the answer to their question. \\\n",
    "The plan should generally not be more than 3 steps long, it can be as short as one. The length of the plan depends on the question.\n",
    "\n",
    "You have access to the following documentation sources:\n",
    "- User guide\n",
    "- API Reference\n",
    "- Examples\n",
    "- Scikit-learn documentation\n",
    "- Code snippets\n",
    "- Tutorials\n",
    "- Conceptual docs\n",
    "- Integration docs\n",
    "\n",
    "You do not need to specify where you want to research for all steps of the plan, but it's sometimes helpful.\"\"\"\n"
   ]
  },
  {
   "cell_type": "code",
   "execution_count": 75,
   "id": "a88110d0",
   "metadata": {},
   "outputs": [],
   "source": [
    "RESPONSE_SYSTEM_PROMPT = \"\"\"\\\n",
    "You are an expert programmer and problem-solver, tasked with answering any question precisely\\\n",
    "about Scikit-learn. \n",
    "\n",
    "Guidelines:\n",
    "- Scale response length appropriately to the question complexity\n",
    "- Use only information from the provided search results\n",
    "- Maintain an unbiased, informative tone\n",
    "- Use bullet points for readability\n",
    "- Place citations [$number] immediately after relevant sentences/paragraphs\n",
    "- Present code blocks exactly as they appear, using ```python and ``` formatting\n",
    "\n",
    "When the search results don't contain relevant information:\n",
    "- Acknowledge the limitations\n",
    "- Explain why you're unsure\n",
    "- Ask for clarifying information if helpful\n",
    "\n",
    "Do not:\n",
    "- Ramble or repeat information\n",
    "- Put all citations at the end\n",
    "- Make up answers not supported by the context\n",
    "- Claim capabilities not evidenced in the search results\n",
    "- Modify or summarize code examples\n",
    "\n",
    "Anything between the `context` html blocks is retrieved from a knowledge bank:\n",
    "\n",
    "<context>\n",
    "    {context}\n",
    "</context>\n",
    "\"\"\"\n"
   ]
  },
  {
   "cell_type": "markdown",
   "id": "a305b557",
   "metadata": {},
   "source": [
    "## 8. Nodes of RetrievalGraph"
   ]
  },
  {
   "cell_type": "code",
   "execution_count": 76,
   "id": "2177e167",
   "metadata": {},
   "outputs": [],
   "source": [
    "# QueryAnalyzer\n",
    "async def analyze_and_route_query(\n",
    "    state: AgentState, *, config: RunnableConfig\n",
    ")-> dict[str, Router]:\n",
    "    \"\"\"Analyze the user's query and determine the appropriate routing\"\"\"\n",
    "    model=llm\n",
    "    messages=[\n",
    "        {\"role\": \"system\", \"content\": ROUTER_SYSTEM_PROMPT}\n",
    "    ]+ state.messages\n",
    "    response=cast(Router, await model.with_structured_output(Router).ainvoke(messages))\n",
    "    return {\"router\": response}\n"
   ]
  },
  {
   "cell_type": "code",
   "execution_count": 77,
   "id": "7163f456",
   "metadata": {},
   "outputs": [],
   "source": [
    "# QueryRouter\n",
    "def route_query(\n",
    "    state: AgentState,\n",
    ")-> Literal[\"create_research_plan\", \"ask_for_more_info\", \"respond_to_general_query\"]:\n",
    "    \"\"\"Determine the next steps based on query classification\"\"\"\n",
    "    _type=state.router[\"type\"]\n",
    "    if _type==\"scikit-learn\":\n",
    "        return \"create_research_plan\"\n",
    "    elif _type==\"more-info\":\n",
    "        return \"ask_for_more_info\"\n",
    "    elif _type==\"general\":\n",
    "        return \"respond_to_general_query\"\n",
    "    else:\n",
    "        raise ValueError(f\"Unknown router type: {_type}\")\n",
    "    "
   ]
  },
  {
   "cell_type": "code",
   "execution_count": 78,
   "id": "67cf61fb",
   "metadata": {},
   "outputs": [],
   "source": [
    "# ask_for_more_info\n",
    "async def ask_for_more_info(\n",
    "    state: AgentState, *, config: RunnableConfig\n",
    ")-> dict[str, list[BaseMessage]]:\n",
    "    \"\"\"Generate a response asking the user for more information\"\"\"\n",
    "    model=llm\n",
    "    system_prompt=MORE_INFO_SYSTEM_PROMPT.format(logic=state.router[\"logic\"])\n",
    "    messages=[{\"role\": \"system\", \"content\": system_prompt}]+state.messages\n",
    "    response= await model.ainvoke(messages)\n",
    "    return {\"messages\": [response]}\n"
   ]
  },
  {
   "cell_type": "code",
   "execution_count": 79,
   "id": "dbaee820",
   "metadata": {},
   "outputs": [],
   "source": [
    "# Respond to general query\n",
    "async def respond_to_general_query(\n",
    "    state: AgentState, *, config: RunnableConfig\n",
    ") -> dict[str, list[BaseMessage]]:\n",
    "    \"\"\"Generate a response to a general query not related to scikit-learn.\"\"\"\n",
    "    model = llm\n",
    "    system_prompt = GENERAL_SYSTEM_PROMPT.format(\n",
    "        logic=state.router[\"logic\"]\n",
    "    )\n",
    "    messages = [{\"role\": \"system\", \"content\": system_prompt}] + state.messages\n",
    "    response = await model.ainvoke(messages)\n",
    "    return {\"messages\": [response]}\n"
   ]
  },
  {
   "cell_type": "code",
   "execution_count": 80,
   "id": "7381834b",
   "metadata": {},
   "outputs": [],
   "source": [
    "# Create research plan\n",
    "async def create_research_plan(\n",
    "    state: AgentState, *, config: RunnableConfig\n",
    ") -> dict[str, list[str] | str]:\n",
    "    \"\"\"Create a step-by-step research plan for answering a Scikit-learn related query.\"\"\"\n",
    "\n",
    "    class Plan(TypedDict):\n",
    "        \"\"\"Generate research plan.\"\"\"\n",
    "\n",
    "        steps: list[str]\n",
    "\n",
    "    model = llm.with_structured_output(Plan)\n",
    "    messages = [\n",
    "        {\"role\": \"system\", \"content\": RESEARCH_PLAN_SYSTEM_PROMPT}\n",
    "    ] + state.messages\n",
    "    response = cast(Plan, await model.ainvoke(messages))\n",
    "    return {\"steps\": response[\"steps\"], \"documents\": \"delete\"}\n"
   ]
  },
  {
   "cell_type": "code",
   "execution_count": 81,
   "id": "d3004a24",
   "metadata": {},
   "outputs": [],
   "source": [
    "# Conduct Research\n",
    "async def conduct_research(state: AgentState) -> dict[str, Any]:\n",
    "    \"\"\"Execute the first step of the research plan.\"\"\"\n",
    "    result = await researcher_graph.ainvoke({\"question\": state.steps[0]})\n",
    "    \n",
    "    return {\"documents\": result[\"documents\"], \"steps\": state.steps[1:]}\n"
   ]
  },
  {
   "cell_type": "code",
   "execution_count": 82,
   "id": "22cf0521",
   "metadata": {},
   "outputs": [],
   "source": [
    "def check_finished(state: AgentState) -> Literal[\"respond\", \"conduct_research\"]:\n",
    "    \"\"\"Determine if the research process is complete or if more research is needed.\"\"\"\n",
    "    if len(state.steps or []) > 0:\n",
    "        return \"conduct_research\"\n",
    "    else:\n",
    "        return \"respond\"\n",
    "    "
   ]
  },
  {
   "cell_type": "code",
   "execution_count": 83,
   "id": "8f3f7092",
   "metadata": {},
   "outputs": [],
   "source": [
    "# Modified format_doc function to preserve code blocks\n",
    "def _format_doc(doc: Document) -> str:\n",
    "    \"\"\"Format a single document as XML with special handling for code blocks.\"\"\"\n",
    "    metadata = doc.metadata or {}\n",
    "    meta = \"\".join(f\" {k}={v!r}\" for k, v in metadata.items())\n",
    "    if meta:\n",
    "        meta = f\" {meta}\"\n",
    "\n",
    "    # Process the page content to preserve code blocks\n",
    "    page_content = doc.page_content\n",
    "    \n",
    "    # Add special xml tags to mark code blocks for the LLM\n",
    "    # This helps ensure the model recognizes and preserves them\n",
    "    return f\"<document{meta}>\\n<content>\\n{page_content}\\n</content>\\n</document>\"\n",
    "\n",
    "\n",
    "def format_docs(docs: Optional[list[Document]]) -> str:\n",
    "    \"\"\"Format a list of documents as XML.\n",
    "\n",
    "    This function takes a list of Document objects and formats them into a single XML string.\n",
    "\n",
    "    Args:\n",
    "        docs (Optional[list[Document]]): A list of Document objects to format, or None.\n",
    "\n",
    "    Returns:\n",
    "        str: A string containing the formatted documents in XML format.\n",
    "    \"\"\"\n",
    "    if not docs:\n",
    "        return \"<documents></documents>\"\n",
    "    \n",
    "    formatted = \"\\n\".join(_format_doc(doc) for doc in docs)\n",
    "    return f\"\"\"<documents>\n",
    "{formatted}\n",
    "</documents>\"\"\"\n"
   ]
  },
  {
   "cell_type": "code",
   "execution_count": 84,
   "id": "3493eccd",
   "metadata": {},
   "outputs": [],
   "source": [
    "async def respond(\n",
    "    state: AgentState, *, config: RunnableConfig\n",
    ") -> dict[str, list[BaseMessage]]:\n",
    "    \"\"\"Generate a final response to the user's query based on the conducted research.\"\"\"\n",
    "\n",
    "    model = llm\n",
    "    documents=state.documents or [] ## Prepare documents with explicit code block preservation\n",
    "    context = format_docs(state.documents) # Do Not Change\n",
    "    prompt = RESPONSE_SYSTEM_PROMPT.format(context=context)\n",
    "    messages = [{\"role\": \"system\", \"content\": prompt+\"\\n\\nIMPORTANT: Always preserve code blocks with ```python and ``` markers. Never modify code content.\"}] + state.messages\n",
    "    response = await model.ainvoke(messages)\n",
    "    return {\"messages\": [response]}\n"
   ]
  },
  {
   "cell_type": "markdown",
   "id": "aec5a330",
   "metadata": {},
   "source": [
    "## 9. RetrievalGraph definition"
   ]
  },
  {
   "cell_type": "code",
   "execution_count": 85,
   "id": "63ef6fc3",
   "metadata": {},
   "outputs": [],
   "source": [
    "builder = StateGraph(AgentState, input=InputState)\n",
    "\n",
    "builder.add_node(\"analyze_and_route_query\",analyze_and_route_query)\n",
    "builder.add_node(\"ask_for_more_info\",ask_for_more_info)\n",
    "builder.add_node(\"respond_to_general_query\",respond_to_general_query)\n",
    "builder.add_node(\"conduct_research\",conduct_research)\n",
    "builder.add_node(\"create_research_plan\",create_research_plan)\n",
    "builder.add_node(\"respond\",respond)\n",
    "\n",
    "builder.add_edge(START, \"analyze_and_route_query\")\n",
    "builder.add_conditional_edges(\"analyze_and_route_query\", route_query)\n",
    "builder.add_edge(\"create_research_plan\", \"conduct_research\")\n",
    "builder.add_conditional_edges(\"conduct_research\", check_finished)\n",
    "builder.add_edge(\"ask_for_more_info\", END)\n",
    "builder.add_edge(\"respond_to_general_query\", END)\n",
    "builder.add_edge(\"respond\", END)\n",
    "\n",
    "# Compile into a graph object that you can invoke and deploy.\n",
    "graph = builder.compile()\n",
    "graph.name = \"RetrievalGraph\"\n"
   ]
  },
  {
   "cell_type": "code",
   "execution_count": 88,
   "id": "9ee8d3af",
   "metadata": {},
   "outputs": [
    {
     "data": {
      "image/png": "[encoded data removed]",
      "text/plain": [
       "<langgraph.graph.state.CompiledStateGraph object at 0x161c84640>"
      ]
     },
     "execution_count": 88,
     "metadata": {},
     "output_type": "execute_result"
    }
   ],
   "source": [
    "graph"
   ]
  },
  {
   "cell_type": "code",
   "execution_count": 86,
   "id": "9d7e2a9b",
   "metadata": {},
   "outputs": [
    {
     "name": "stderr",
     "output_type": "stream",
     "text": [
      "/Users/sumi/miniforge3/envs/CDEnv/lib/python3.10/site-packages/langchain_google_genai/chat_models.py:1410: UserWarning: ChatGoogleGenerativeAI.with_structured_output with dict schema has changed recently to align with behavior of other LangChain chat models. More context: https://github.com/langchain-ai/langchain-google/pull/772\n",
      "  warnings.warn(\n",
      "/Users/sumi/miniforge3/envs/CDEnv/lib/python3.10/site-packages/langchain_google_genai/chat_models.py:1410: UserWarning: ChatGoogleGenerativeAI.with_structured_output with dict schema has changed recently to align with behavior of other LangChain chat models. More context: https://github.com/langchain-ai/langchain-google/pull/772\n",
      "  warnings.warn(\n",
      "/Users/sumi/miniforge3/envs/CDEnv/lib/python3.10/site-packages/langchain_google_genai/chat_models.py:1410: UserWarning: ChatGoogleGenerativeAI.with_structured_output with dict schema has changed recently to align with behavior of other LangChain chat models. More context: https://github.com/langchain-ai/langchain-google/pull/772\n",
      "  warnings.warn(\n",
      "/Users/sumi/miniforge3/envs/CDEnv/lib/python3.10/site-packages/langchain_google_genai/chat_models.py:1410: UserWarning: ChatGoogleGenerativeAI.with_structured_output with dict schema has changed recently to align with behavior of other LangChain chat models. More context: https://github.com/langchain-ai/langchain-google/pull/772\n",
      "  warnings.warn(\n"
     ]
    },
    {
     "data": {
      "text/plain": [
       "{'messages': [HumanMessage(content='How to use Logistic Regression?', additional_kwargs={}, response_metadata={}, id='30c59543-bf48-45e5-8adf-ccdc17b26027'),\n",
       "  AIMessage(content=\"Logistic Regression in scikit-learn is a linear model used for classification tasks. It applies a logistic function to predict the probabilities of the classes [df711738-0716-97ec-aff6-ab926b26f7dc]. Here's how to use it:\\n\\n1.  **Import the model:**\\n    ```python\\n    from sklearn.linear_model import LogisticRegression\\n    ```\\n\\n2.  **Create an instance of the model:**\\n    ```python\\n    logisticRegr = LogisticRegression()\\n    ```\\n\\n3.  **Fit the model with training data:**\\n    ```python\\n    logisticRegr.fit(X_train, y_train)\\n    ```\\n    `X_train` is the training data and `y_train` contains the corresponding labels.\\n\\n4.  **Make predictions:**\\n    ```python\\n    predictions = logisticRegr.predict(X_test)\\n    ```\\n    `X_test` is the test data for which you want to make predictions.\\n\\n**Additional Information:**\\n\\n*   **Regularization:** Logistic Regression can be regularized using L1 or L2 penalties to prevent overfitting [5df4d0e1-fec1-608b-c5ea-9d4392a52931].\\n*   **Multiclass classification:** Logistic Regression can be extended to handle multiclass classification problems [36dfbd9a-4e89-4a4b-ea67-98fea3a38904, f122c941-a0be-65e5-d04b-6a155705d462].\\n*   **Calibration:** Logistic Regression can be calibrated to provide well-calibrated probability estimates [e018ca29-d518-41cf-4721-ee39310b1237].\\n*   **LogisticRegressionCV:**  A variant of Logistic Regression that can automatically tune its regularization parameter [e018ca29-d518-41cf-4721-ee39310b1237].\", additional_kwargs={}, response_metadata={'prompt_feedback': {'block_reason': 0, 'safety_ratings': []}, 'finish_reason': 'STOP', 'model_name': 'gemini-2.0-flash', 'safety_ratings': []}, id='run-ad566a44-8fce-48f7-a077-ba1592fb14e2-0', usage_metadata={'input_tokens': 4675, 'output_tokens': 490, 'total_tokens': 5165, 'input_token_details': {'cache_read': 0}})],\n",
       " 'router': {'type': 'scikit-learn',\n",
       "  'logic': 'How to use Logistic Regression?'},\n",
       " 'steps': [],\n",
       " 'documents': [Document(id='3ed91e15-e58d-45e3-ad6c-eb1336d5aee7', metadata={'description': 'Gallery examples: Release Highlights for scikit-learn 1.5 Release Highlights for scikit-learn 1.3 Release Highlights for scikit-learn 1.1 Release Highlights for scikit-learn 1.0 Release Highlights ...', 'language': 'en', 'source': 'https://scikit-learn.org/stable/modules/generated/sklearn.linear_model.LogisticRegression.html', 'title': 'LogisticRegression — scikit-learn 1.6.1 documentation', 'uuid': '7381aaff-d479-1b75-0622-6f5ef7192bce'}, page_content='LogisticRegression — scikit-learn 1.6.1 documentation\\n\\n\\n\\n\\n\\n\\n\\n\\n\\n\\n\\n\\n\\n\\n\\n\\n\\n\\n\\n\\n\\n\\n\\n\\n\\n\\n\\n\\n\\n\\n\\n\\n\\n\\n\\n\\n\\n\\n\\n\\n\\n\\n\\n\\n\\n\\n\\n\\n\\n\\nSkip to main content\\n\\n\\nBack to top\\n\\n\\n\\n\\nCtrl+K\\n\\n\\n\\n\\n\\n\\n\\n\\n\\n\\n\\n\\n\\n\\n\\n\\n\\n\\n\\n\\n\\n\\n\\n\\n    Install\\n  \\n\\n\\n\\n    User Guide\\n  \\n\\n\\n\\n    API\\n  \\n\\n\\n\\n    Examples\\n  \\n\\n\\n\\n    Community\\n  \\n\\n\\n\\n                    More\\n                \\n\\n\\n\\n    Getting Started\\n  \\n\\n\\n\\n    Release History\\n  \\n\\n\\n\\n    Glossary\\n  \\n\\n\\n\\n    Development\\n  \\n\\n\\n\\n    FAQ\\n  \\n\\n\\n\\n    Support\\n  \\n\\n\\n\\n    Related Projects\\n  \\n\\n\\n\\n    Roadmap\\n  \\n\\n\\n\\n    Governance\\n  \\n\\n\\n\\n    About us\\n  \\n\\n\\n\\n\\n\\n\\n\\n\\n\\n\\n\\n\\n\\n\\n\\n\\n\\n\\n\\n\\n\\nGitHub\\n\\n\\n\\n\\n\\n    Choose version  \\n\\n\\n\\n\\n\\n\\n\\n\\n\\n\\n\\n\\n\\n\\n\\n\\n\\n\\n\\n\\n\\n\\n\\n\\n\\n\\n\\n\\n\\n    Install\\n  \\n\\n\\n\\n    User Guide\\n  \\n\\n\\n\\n    API\\n  \\n\\n\\n\\n    Examples\\n  \\n\\n\\n\\n    Community\\n  \\n\\n\\n\\n    Getting Started\\n  \\n\\n\\n\\n    Release History\\n  \\n\\n\\n\\n    Glossary\\n  \\n\\n\\n\\n    Development\\n  \\n\\n\\n\\n    FAQ\\n  \\n\\n\\n\\n    Support\\n  \\n\\n\\n\\n    Related Projects\\n  \\n\\n\\n\\n    Roadmap\\n  \\n\\n\\n\\n    Governance\\n  \\n\\n\\n\\n    About us\\n  \\n\\n\\n\\n\\n\\n\\n\\n\\n\\n\\n\\n\\n\\n\\nGitHub\\n\\n\\n\\n\\n\\n    Choose version  \\n\\n\\n\\n\\n\\n\\n\\n\\n\\n\\n\\nSection Navigation'),\n",
       "  Document(id='d3566f89-79c2-41ec-897c-26b567bac608', metadata={'description': 'Gallery examples: Comparison of Calibration of Classifiers Importance of Feature Scaling', 'language': 'en', 'source': 'https://scikit-learn.org/stable/modules/generated/sklearn.linear_model.LogisticRegressionCV.html', 'title': 'LogisticRegressionCV — scikit-learn 1.6.1 documentation', 'uuid': 'e495f3d0-1696-207a-e264-7752357a9c32'}, page_content='LogisticRegressionCV — scikit-learn 1.6.1 documentation\\n\\n\\n\\n\\n\\n\\n\\n\\n\\n\\n\\n\\n\\n\\n\\n\\n\\n\\n\\n\\n\\n\\n\\n\\n\\n\\n\\n\\n\\n\\n\\n\\n\\n\\n\\n\\n\\n\\n\\n\\n\\n\\n\\n\\n\\n\\n\\n\\n\\n\\nSkip to main content\\n\\n\\nBack to top\\n\\n\\n\\n\\nCtrl+K\\n\\n\\n\\n\\n\\n\\n\\n\\n\\n\\n\\n\\n\\n\\n\\n\\n\\n\\n\\n\\n\\n\\n\\n\\n    Install\\n  \\n\\n\\n\\n    User Guide\\n  \\n\\n\\n\\n    API\\n  \\n\\n\\n\\n    Examples\\n  \\n\\n\\n\\n    Community\\n  \\n\\n\\n\\n                    More\\n                \\n\\n\\n\\n    Getting Started\\n  \\n\\n\\n\\n    Release History\\n  \\n\\n\\n\\n    Glossary\\n  \\n\\n\\n\\n    Development\\n  \\n\\n\\n\\n    FAQ\\n  \\n\\n\\n\\n    Support\\n  \\n\\n\\n\\n    Related Projects\\n  \\n\\n\\n\\n    Roadmap\\n  \\n\\n\\n\\n    Governance\\n  \\n\\n\\n\\n    About us\\n  \\n\\n\\n\\n\\n\\n\\n\\n\\n\\n\\n\\n\\n\\n\\n\\n\\n\\n\\n\\n\\n\\nGitHub\\n\\n\\n\\n\\n\\n    Choose version  \\n\\n\\n\\n\\n\\n\\n\\n\\n\\n\\n\\n\\n\\n\\n\\n\\n\\n\\n\\n\\n\\n\\n\\n\\n\\n\\n\\n\\n\\n    Install\\n  \\n\\n\\n\\n    User Guide\\n  \\n\\n\\n\\n    API\\n  \\n\\n\\n\\n    Examples\\n  \\n\\n\\n\\n    Community\\n  \\n\\n\\n\\n    Getting Started\\n  \\n\\n\\n\\n    Release History\\n  \\n\\n\\n\\n    Glossary\\n  \\n\\n\\n\\n    Development\\n  \\n\\n\\n\\n    FAQ\\n  \\n\\n\\n\\n    Support\\n  \\n\\n\\n\\n    Related Projects\\n  \\n\\n\\n\\n    Roadmap\\n  \\n\\n\\n\\n    Governance\\n  \\n\\n\\n\\n    About us\\n  \\n\\n\\n\\n\\n\\n\\n\\n\\n\\n\\n\\n\\n\\n\\nGitHub\\n\\n\\n\\n\\n\\n    Choose version  \\n\\n\\n\\n\\n\\n\\n\\n\\n\\n\\n\\nSection Navigation'),\n",
       "  Document(id='5767de62-3f36-4f95-a57b-ef0315e80aad', metadata={'description': 'Shown in the plot is how the logistic regression would, in this synthetic dataset, classify values as either 0 or 1, i.e. class one or two, using the logistic curve. Total running time of the scrip...', 'language': 'en', 'source': 'https://scikit-learn.org/stable/auto_examples/linear_model/plot_logistic.html', 'title': 'Logistic function — scikit-learn 1.6.1 documentation', 'uuid': 'df711738-0716-97ec-aff6-ab926b26f7dc'}, page_content='Logistic function — scikit-learn 1.6.1 documentation\\n\\n\\n\\n\\n\\n\\n\\n\\n\\n\\n\\n\\n\\n\\n\\n\\n\\n\\n\\n\\n\\n\\n\\n\\n\\n\\n\\n\\n\\n\\n\\n\\n\\n\\n\\n\\n\\n\\n\\n\\n\\n\\n\\n\\n\\n\\n\\n\\n\\nSkip to main content\\n\\n\\nBack to top\\n\\n\\n\\n\\nCtrl+K\\n\\n\\n\\n\\n\\n\\n\\n\\n\\n\\n\\n\\n\\n\\n\\n\\n\\n\\n\\n\\n\\n\\n\\n\\n    Install\\n  \\n\\n\\n\\n    User Guide\\n  \\n\\n\\n\\n    API\\n  \\n\\n\\n\\n    Examples\\n  \\n\\n\\n\\n    Community\\n  \\n\\n\\n\\n                    More\\n                \\n\\n\\n\\n    Getting Started\\n  \\n\\n\\n\\n    Release History\\n  \\n\\n\\n\\n    Glossary\\n  \\n\\n\\n\\n    Development\\n  \\n\\n\\n\\n    FAQ\\n  \\n\\n\\n\\n    Support\\n  \\n\\n\\n\\n    Related Projects\\n  \\n\\n\\n\\n    Roadmap\\n  \\n\\n\\n\\n    Governance\\n  \\n\\n\\n\\n    About us\\n  \\n\\n\\n\\n\\n\\n\\n\\n\\n\\n\\n\\n\\n\\n\\n\\n\\n\\n\\n\\n\\n\\nGitHub\\n\\n\\n\\n\\n\\n    Choose version  \\n\\n\\n\\n\\n\\n\\n\\n\\n\\n\\n\\n\\n\\n\\n\\n\\n\\n\\n\\n\\n\\n\\n\\n\\n\\n\\n\\n\\n\\n    Install\\n  \\n\\n\\n\\n    User Guide\\n  \\n\\n\\n\\n    API\\n  \\n\\n\\n\\n    Examples\\n  \\n\\n\\n\\n    Community\\n  \\n\\n\\n\\n    Getting Started\\n  \\n\\n\\n\\n    Release History\\n  \\n\\n\\n\\n    Glossary\\n  \\n\\n\\n\\n    Development\\n  \\n\\n\\n\\n    FAQ\\n  \\n\\n\\n\\n    Support\\n  \\n\\n\\n\\n    Related Projects\\n  \\n\\n\\n\\n    Roadmap\\n  \\n\\n\\n\\n    Governance\\n  \\n\\n\\n\\n    About us\\n  \\n\\n\\n\\n\\n\\n\\n\\n\\n\\n\\n\\n\\n\\n\\nGitHub\\n\\n\\n\\n\\n\\n    Choose version  \\n\\n\\n\\n\\n\\n\\n\\n\\n\\n\\n\\nSection Navigation'),\n",
       "  Document(id='da7fcfad-d0b5-4117-b422-33083b6ed7c5', metadata={'description': 'Linear Models- Ordinary Least Squares, Ridge regression and classification, Lasso, Multi-task Lasso, Elastic-Net, Multi-task Elastic-Net, Least Angle Regression, LARS Lasso, Orthogonal Matching Pur...', 'language': 'en', 'source': 'https://scikit-learn.org/stable/supervised_learning.html', 'title': '1. Supervised learning — scikit-learn 1.6.1 documentation', 'uuid': 'dafc3294-ed7d-c146-6376-afec4194db2e'}, page_content='previous\\nUser Guide\\n\\n\\n\\n\\nnext\\n1.1. Linear Models\\n\\n\\n\\n\\n\\n\\n\\n\\n\\n\\n\\nThis Page\\n\\nShow Source\\n\\n\\n\\n\\n\\n\\n\\n\\n\\n\\n\\n\\n\\n\\n\\n\\n\\n    \\n      © Copyright 2007 - 2025, scikit-learn developers (BSD License).'),\n",
       "  Document(id='1fd1ea5f-c1d5-4cba-bb26-f89567f4e578', metadata={'description': 'This is the class and function reference of scikit-learn. Please refer to the full user guide for further details, as the raw specifications of classes and functions may not be enough to give full ...', 'language': 'en', 'source': 'https://scikit-learn.org/stable/api/index.html', 'title': 'API Reference — scikit-learn 1.6.1 documentation', 'uuid': '3d540ef1-dcf6-ab5b-9d87-fed1105ca7c1'}, page_content='API Reference — scikit-learn 1.6.1 documentation\\n\\n\\n\\n\\n\\n\\n\\n\\n\\n\\n\\n\\n\\n\\n\\n\\n\\n\\n\\n\\n\\n\\n\\n\\n\\n\\n\\n\\n\\n\\n\\n\\n\\n\\n\\n\\n\\n\\n\\n\\n\\n\\n\\n\\n\\n\\n\\n\\n\\n\\n\\n\\n\\n\\n\\nSkip to main content\\n\\n\\nBack to top\\n\\n\\n\\n\\nCtrl+K\\n\\n\\n\\n\\n\\n\\n\\n\\n\\n\\n\\n\\n\\n\\n\\n\\n\\n\\n\\n\\n\\n\\n\\n\\n    Install\\n  \\n\\n\\n\\n    User Guide\\n  \\n\\n\\n\\n    API\\n  \\n\\n\\n\\n    Examples\\n  \\n\\n\\n\\n    Community\\n  \\n\\n\\n\\n                    More\\n                \\n\\n\\n\\n    Getting Started\\n  \\n\\n\\n\\n    Release History\\n  \\n\\n\\n\\n    Glossary\\n  \\n\\n\\n\\n    Development\\n  \\n\\n\\n\\n    FAQ\\n  \\n\\n\\n\\n    Support\\n  \\n\\n\\n\\n    Related Projects\\n  \\n\\n\\n\\n    Roadmap\\n  \\n\\n\\n\\n    Governance\\n  \\n\\n\\n\\n    About us\\n  \\n\\n\\n\\n\\n\\n\\n\\n\\n\\n\\n\\n\\n\\n\\n\\n\\n\\n\\n\\n\\n\\nGitHub\\n\\n\\n\\n\\n\\n    Choose version  \\n\\n\\n\\n\\n\\n\\n\\n\\n\\n\\n\\n\\n\\n\\n\\n\\n\\n\\n\\n\\n\\n\\n\\n\\n\\n\\n    Install\\n  \\n\\n\\n\\n    User Guide\\n  \\n\\n\\n\\n    API\\n  \\n\\n\\n\\n    Examples\\n  \\n\\n\\n\\n    Community\\n  \\n\\n\\n\\n    Getting Started\\n  \\n\\n\\n\\n    Release History\\n  \\n\\n\\n\\n    Glossary\\n  \\n\\n\\n\\n    Development\\n  \\n\\n\\n\\n    FAQ\\n  \\n\\n\\n\\n    Support\\n  \\n\\n\\n\\n    Related Projects\\n  \\n\\n\\n\\n    Roadmap\\n  \\n\\n\\n\\n    Governance\\n  \\n\\n\\n\\n    About us\\n  \\n\\n\\n\\n\\n\\n\\n\\n\\n\\n\\n\\n\\n\\n\\nGitHub\\n\\n\\n\\n\\n\\n    Choose version  \\n\\n\\n\\n\\n\\n\\n\\n\\n\\n\\n\\nSection Navigation'),\n",
       "  Document(id='6cb8c5f0-156d-4f99-a960-1d10f579e252', metadata={'description': 'Train l1-penalized logistic regression models on a binary classification problem derived from the Iris dataset. The models are ordered from strongest regularized to least regularized. The 4 coeffic...', 'language': 'en', 'source': 'https://scikit-learn.org/stable/auto_examples/linear_model/plot_logistic_path.html', 'title': 'Regularization path of L1- Logistic Regression — scikit-learn 1.6.1 documentation', 'uuid': '5df4d0e1-fec1-608b-c5ea-9d4392a52931'}, page_content='Regularization path of L1- Logistic Regression — scikit-learn 1.6.1 documentation\\n\\n\\n\\n\\n\\n\\n\\n\\n\\n\\n\\n\\n\\n\\n\\n\\n\\n\\n\\n\\n\\n\\n\\n\\n\\n\\n\\n\\n\\n\\n\\n\\n\\n\\n\\n\\n\\n\\n\\n\\n\\n\\n\\n\\n\\n\\n\\n\\n\\nSkip to main content\\n\\n\\nBack to top\\n\\n\\n\\n\\nCtrl+K\\n\\n\\n\\n\\n\\n\\n\\n\\n\\n\\n\\n\\n\\n\\n\\n\\n\\n\\n\\n\\n\\n\\n\\n\\n    Install\\n  \\n\\n\\n\\n    User Guide\\n  \\n\\n\\n\\n    API\\n  \\n\\n\\n\\n    Examples\\n  \\n\\n\\n\\n    Community\\n  \\n\\n\\n\\n                    More\\n                \\n\\n\\n\\n    Getting Started\\n  \\n\\n\\n\\n    Release History\\n  \\n\\n\\n\\n    Glossary\\n  \\n\\n\\n\\n    Development\\n  \\n\\n\\n\\n    FAQ\\n  \\n\\n\\n\\n    Support\\n  \\n\\n\\n\\n    Related Projects\\n  \\n\\n\\n\\n    Roadmap\\n  \\n\\n\\n\\n    Governance\\n  \\n\\n\\n\\n    About us\\n  \\n\\n\\n\\n\\n\\n\\n\\n\\n\\n\\n\\n\\n\\n\\n\\n\\n\\n\\n\\n\\n\\nGitHub\\n\\n\\n\\n\\n\\n    Choose version  \\n\\n\\n\\n\\n\\n\\n\\n\\n\\n\\n\\n\\n\\n\\n\\n\\n\\n\\n\\n\\n\\n\\n\\n\\n\\n\\n\\n\\n\\n    Install\\n  \\n\\n\\n\\n    User Guide\\n  \\n\\n\\n\\n    API\\n  \\n\\n\\n\\n    Examples\\n  \\n\\n\\n\\n    Community\\n  \\n\\n\\n\\n    Getting Started\\n  \\n\\n\\n\\n    Release History\\n  \\n\\n\\n\\n    Glossary\\n  \\n\\n\\n\\n    Development\\n  \\n\\n\\n\\n    FAQ\\n  \\n\\n\\n\\n    Support\\n  \\n\\n\\n\\n    Related Projects\\n  \\n\\n\\n\\n    Roadmap\\n  \\n\\n\\n\\n    Governance\\n  \\n\\n\\n\\n    About us\\n  \\n\\n\\n\\n\\n\\n\\n\\n\\n\\n\\n\\n\\n\\n\\nGitHub\\n\\n\\n\\n\\n\\n    Choose version'),\n",
       "  Document(id='6afec2f3-3554-4be2-9d8f-5123eb99b8e5', metadata={'description': 'For greyscale image data where pixel values can be interpreted as degrees of blackness on a white background, like handwritten digit recognition, the Bernoulli Restricted Boltzmann machine model ( ...', 'language': 'en', 'source': 'https://scikit-learn.org/stable/auto_examples/neural_networks/plot_rbm_logistic_classification.html', 'title': 'Restricted Boltzmann Machine features for digit classification — scikit-learn 1.6.1 documentation', 'uuid': 'f1b1cd04-91c6-fad2-4235-aa439f0f64c8'}, page_content='Download zipped: plot_rbm_logistic_classification.zip\\n\\n\\nRelated examples\\n\\nLogistic function\\nLogistic function\\n\\nPlot classification probability\\nPlot classification probability\\n\\nMulticlass sparse logistic regression on 20newgroups\\nMulticlass sparse logistic regression on 20newgroups\\n\\nPipelining: chaining a PCA and a logistic regression\\nPipelining: chaining a PCA and a logistic regression\\nGallery generated by Sphinx-Gallery\\n\\n\\n\\n\\n\\n\\n\\n\\n\\n\\nprevious\\nCompare Stochastic learning strategies for MLPClassifier\\n\\n\\n\\n\\nnext\\nVarying regularization in Multi-layer Perceptron\\n\\n\\n\\n\\n\\n\\n\\n\\n\\n\\n\\n On this page\\n  \\n\\n\\nGenerate data\\nModels definition\\nTraining\\nEvaluation\\nPlotting\\n\\n\\n\\n\\nThis Page\\n\\nShow Source\\n\\n\\n\\n\\n\\n\\n\\n            Download source code\\n          \\n\\n\\n\\n\\n            Download Jupyter notebook\\n          \\n\\n\\n\\n\\n            Download zipped\\n          \\n\\n\\n\\n\\n\\n\\n\\n\\n\\n\\n\\n\\n\\n\\n\\n\\n\\n\\n\\n\\n\\n\\n\\n\\n\\n\\n\\n\\n\\n\\n\\n\\n    \\n      © Copyright 2007 - 2025, scikit-learn developers (BSD License).'),\n",
       "  Document(id='2c809804-c5bd-4787-bf08-e83c175eda6b', metadata={'description': 'Here we fit a multinomial logistic regression with L1 penalty on a subset of the MNIST digits classification task. We use the SAGA algorithm for this purpose: this a solver that is fast when the nu...', 'language': 'en', 'source': 'https://scikit-learn.org/stable/auto_examples/linear_model/plot_sparse_logistic_regression_mnist.html', 'title': 'MNIST classification using multinomial logistic + L1 — scikit-learn 1.6.1 documentation', 'uuid': '36dfbd9a-4e89-4a4b-ea67-98fea3a38904'}, page_content='previous\\nLogistic function\\n\\n\\n\\n\\nnext\\nMulticlass sparse logistic regression on 20newgroups\\n\\n\\n\\n\\n\\n\\n\\n\\n\\n\\n\\nThis Page\\n\\nShow Source\\n\\n\\n\\n\\n\\n\\n\\n            Download source code\\n          \\n\\n\\n\\n\\n            Download Jupyter notebook\\n          \\n\\n\\n\\n\\n            Download zipped\\n          \\n\\n\\n\\n\\n\\n\\n\\n\\n\\n\\n\\n\\n\\n\\n\\n\\n\\n\\n\\n\\n\\n\\n\\n\\n\\n\\n\\n\\n\\n\\n\\n\\n    \\n      © Copyright 2007 - 2025, scikit-learn developers (BSD License).'),\n",
       "  Document(id='ae86cd7a-cd68-4596-aba2-f21032fecf1e', metadata={'description': 'Well calibrated classifiers are probabilistic classifiers for which the output of predict_proba can be directly interpreted as a confidence level. For instance, a well calibrated (binary) classifie...', 'language': 'en', 'source': 'https://scikit-learn.org/stable/auto_examples/calibration/plot_compare_calibration.html', 'title': 'Comparison of Calibration of Classifiers — scikit-learn 1.6.1 documentation', 'uuid': 'e018ca29-d518-41cf-4721-ee39310b1237'}, page_content='# Define the classifiers to be compared in the study.\\n#\\n# Note that we use a variant of the logistic regression model that can\\n# automatically tune its regularization parameter.\\n#\\n# For a fair comparison, we should run a hyper-parameter search for all the\\n# classifiers but we don\\'t do it here for the sake of keeping the example code\\n# concise and fast to execute.\\nlr = LogisticRegressionCV(\\n    Cs=np.logspace(-6, 6, 101), cv=10, scoring=\"neg_log_loss\", max_iter=1_000\\n)\\ngnb = GaussianNB()\\nsvc = NaivelyCalibratedLinearSVC(C=1.0)\\nrfc = RandomForestClassifier(random_state=42)\\n\\nclf_list = [\\n    (lr, \"Logistic Regression\"),\\n    (gnb, \"Naive Bayes\"),\\n    (svc, \"SVC\"),\\n    (rfc, \"Random forest\"),\\n]\\n\\n\\nimport matplotlib.pyplot as plt\\nfrom matplotlib.gridspec import GridSpec\\n\\nfig = plt.figure(figsize=(10, 10))\\ngs = GridSpec(4, 2)\\ncolors = plt.get_cmap(\"Dark2\")'),\n",
       "  Document(id='8e52f0db-0578-4c3d-a6be-36f506270627', metadata={'description': 'Comparison of multinomial logistic L1 vs one-versus-rest L1 logistic regression to classify documents from the newgroups20 dataset. Multinomial logistic regression yields more accurate results and ...', 'language': 'en', 'source': 'https://scikit-learn.org/stable/auto_examples/linear_model/plot_sparse_logistic_regression_20newsgroups.html', 'title': 'Multiclass sparse logistic regression on 20newgroups — scikit-learn 1.6.1 documentation', 'uuid': 'f122c941-a0be-65e5-d04b-6a155705d462'}, page_content='fig = plt.figure()\\nax = fig.add_subplot(111)\\n\\nfor model in models:\\n    name = models[model][\"name\"]\\n    times = models[model][\"times\"]\\n    accuracies = models[model][\"accuracies\"]\\n    ax.plot(times, accuracies, marker=\"o\", label=\"Model: %s\" % name)\\n    ax.set_xlabel(\"Train time (s)\")\\n    ax.set_ylabel(\"Test accuracy\")\\nax.legend()\\nfig.suptitle(\"Multinomial vs One-vs-Rest Logistic L1\\\\nDataset %s\" % \"20newsgroups\")\\nfig.tight_layout()\\nfig.subplots_adjust(top=0.85)\\nrun_time = timeit.default_timer() - t0\\nprint(\"Example run in %.3f s\" % run_time)\\nplt.show()\\n\\n\\nTotal running time of the script: (0 minutes 6.478 seconds)\\n\\n\\n\\n\\n\\n\\n\\n\\n\\n\\nDownload Jupyter notebook: plot_sparse_logistic_regression_20newsgroups.ipynb\\n\\n\\nDownload Python source code: plot_sparse_logistic_regression_20newsgroups.py\\n\\n\\nDownload zipped: plot_sparse_logistic_regression_20newsgroups.zip\\n\\n\\nRelated examples\\n\\nMNIST classification using multinomial logistic + L1\\nMNIST classification using multinomial logistic + L1'),\n",
       "  Document(id='838dad94-2c1a-474d-9600-31eb7ffa42a3', metadata={'description': 'scikit-learn comes with a few small standard datasets that do not require to download any file from some external website. They can be loaded using the following functions: These datasets are usefu...', 'language': 'en', 'source': 'https://scikit-learn.org/stable/datasets/toy_dataset.html', 'title': '7.1. Toy datasets — scikit-learn 1.6.1 documentation', 'uuid': '480c7522-4d64-b451-5bcb-f26486d83262'}, page_content='Note: Each of these 10 feature variables have been mean centered and scaled by the standard deviation times the square root of n_samples (i.e. the sum of squares of each column totals 1).\\nSource URL:\\nhttps://www4.stat.ncsu.edu/~boos/var.select/diabetes.html\\nFor more information see:\\nBradley Efron, Trevor Hastie, Iain Johnstone and Robert Tibshirani (2004) “Least Angle Regression,” Annals of Statistics (with discussion), 407-499.\\n(https://web.stanford.edu/~hastie/Papers/LARS/LeastAngle_2002.pdf)\\n\\n\\n7.1.3. Optical recognition of handwritten digits dataset#\\nData Set Characteristics:\\n\\nNumber of Instances:\\n1797\\n\\nNumber of Attributes:\\n64\\n\\nAttribute Information:\\n8x8 image of integer pixels in the range 0..16.\\n\\nMissing Attribute Values:\\nNone\\n\\nCreator:\\n\\nAlpaydin (alpaydin ‘@’ boun.edu.tr)\\n\\n\\nDate:\\nJuly; 1998'),\n",
       "  Document(id='3a848f50-da4c-4d03-979b-f72bb46dd415', metadata={'description': 'A demonstration of feature discretization on synthetic classification datasets. Feature discretization decomposes each feature into a set of bins, here equally distributed in width. The discrete va...', 'language': 'en', 'source': 'https://scikit-learn.org/stable/auto_examples/preprocessing/plot_discretization_classification.html', 'title': 'Feature discretization — scikit-learn 1.6.1 documentation', 'uuid': '04d3e936-377c-671d-7b26-858268f8102d'}, page_content='dataset 1\\n---------\\nLogisticRegression: 0.40\\nLinearSVC: 0.40\\nKBinsDiscretizer + LogisticRegression: 0.78\\nKBinsDiscretizer + LinearSVC: 0.80\\nGradientBoostingClassifier: 0.84\\nSVC: 0.84\\n\\ndataset 2\\n---------\\nLogisticRegression: 0.98\\nLinearSVC: 0.96\\nKBinsDiscretizer + LogisticRegression: 0.94\\nKBinsDiscretizer + LinearSVC: 0.94\\nGradientBoostingClassifier: 0.94\\nSVC: 0.98\\n\\n\\n\\n\\n\\n# Authors: The scikit-learn developers\\n# SPDX-License-Identifier: BSD-3-Clause\\n\\nimport matplotlib.pyplot as plt\\nimport numpy as np\\nfrom matplotlib.colors import ListedColormap'),\n",
       "  Document(id='2c775bbf-21f2-496b-b24e-05a22064bd0b', metadata={'description': 'This example visualizes some training loss curves for different stochastic learning strategies, including SGD and Adam. Because of time-constraints, we use several small datasets, for which L-BFGS ...', 'language': 'en', 'source': 'https://scikit-learn.org/stable/auto_examples/neural_networks/plot_mlp_training_curves.html', 'title': 'Compare Stochastic learning strategies for MLPClassifier — scikit-learn 1.6.1 documentation', 'uuid': '0d68d979-426b-51bf-62c2-710e39f005af'}, page_content='Generalized Linear Models\\nComparing Linear Bayesian Regressors\\nComparing various online solvers\\nCurve Fitting with Bayesian Ridge Regression\\nDecision Boundaries of Multinomial and One-vs-Rest Logistic Regression\\nEarly stopping of Stochastic Gradient Descent\\nFitting an Elastic Net with a precomputed Gram Matrix and Weighted Samples\\nHuberRegressor vs Ridge on dataset with strong outliers\\nJoint feature selection with multi-task Lasso\\nL1 Penalty and Sparsity in Logistic Regression\\nL1-based models for Sparse Signals\\nLasso model selection via information criteria\\nLasso model selection: AIC-BIC / cross-validation\\nLasso on dense and sparse data\\nLasso, Lasso-LARS, and Elastic Net paths\\nLogistic function\\nMNIST classification using multinomial logistic + L1\\nMulticlass sparse logistic regression on 20newgroups\\nNon-negative least squares\\nOne-Class SVM versus One-Class SVM using Stochastic Gradient Descent\\nOrdinary Least Squares Example\\nOrdinary Least Squares and Ridge Regression Variance')]}"
      ]
     },
     "execution_count": 86,
     "metadata": {},
     "output_type": "execute_result"
    }
   ],
   "source": [
    "from langchain_core.messages import HumanMessage\n",
    "\n",
    "input_state = {\n",
    "    \"messages\": [HumanMessage(content=\"How to use Logistic Regression?\")]\n",
    "}\n",
    "\n",
    "\n",
    "response = await graph.ainvoke(input_state)\n",
    "response"
   ]
  },
  {
   "cell_type": "code",
   "execution_count": 87,
   "id": "742490d0",
   "metadata": {},
   "outputs": [
    {
     "name": "stdout",
     "output_type": "stream",
     "text": [
      "Logistic Regression in scikit-learn is a linear model used for classification tasks. It applies a logistic function to predict the probabilities of the classes [df711738-0716-97ec-aff6-ab926b26f7dc]. Here's how to use it:\n",
      "\n",
      "1.  **Import the model:**\n",
      "    ```python\n",
      "    from sklearn.linear_model import LogisticRegression\n",
      "    ```\n",
      "\n",
      "2.  **Create an instance of the model:**\n",
      "    ```python\n",
      "    logisticRegr = LogisticRegression()\n",
      "    ```\n",
      "\n",
      "3.  **Fit the model with training data:**\n",
      "    ```python\n",
      "    logisticRegr.fit(X_train, y_train)\n",
      "    ```\n",
      "    `X_train` is the training data and `y_train` contains the corresponding labels.\n",
      "\n",
      "4.  **Make predictions:**\n",
      "    ```python\n",
      "    predictions = logisticRegr.predict(X_test)\n",
      "    ```\n",
      "    `X_test` is the test data for which you want to make predictions.\n",
      "\n",
      "**Additional Information:**\n",
      "\n",
      "*   **Regularization:** Logistic Regression can be regularized using L1 or L2 penalties to prevent overfitting [5df4d0e1-fec1-608b-c5ea-9d4392a52931].\n",
      "*   **Multiclass classification:** Logistic Regression can be extended to handle multiclass classification problems [36dfbd9a-4e89-4a4b-ea67-98fea3a38904, f122c941-a0be-65e5-d04b-6a155705d462].\n",
      "*   **Calibration:** Logistic Regression can be calibrated to provide well-calibrated probability estimates [e018ca29-d518-41cf-4721-ee39310b1237].\n",
      "*   **LogisticRegressionCV:**  A variant of Logistic Regression that can automatically tune its regularization parameter [e018ca29-d518-41cf-4721-ee39310b1237].\n"
     ]
    }
   ],
   "source": [
    "final_response = response[\"messages\"][-1].content\n",
    "print(final_response)"
   ]
  },
  {
   "cell_type": "code",
   "execution_count": null,
   "id": "7095496d",
   "metadata": {},
   "outputs": [],
   "source": []
  }
 ],
 "metadata": {
  "kernelspec": {
   "display_name": "CDEnv",
   "language": "python",
   "name": "python3"
  },
  "language_info": {
   "codemirror_mode": {
    "name": "ipython",
    "version": 3
   },
   "file_extension": ".py",
   "mimetype": "text/x-python",
   "name": "python",
   "nbconvert_exporter": "python",
   "pygments_lexer": "ipython3",
   "version": "3.11.12"
  }
 },
 "nbformat": 4,
 "nbformat_minor": 5
}
