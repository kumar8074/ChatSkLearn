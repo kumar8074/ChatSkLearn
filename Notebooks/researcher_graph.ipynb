{
 "cells": [
  {
   "cell_type": "markdown",
   "id": "ba1114ed",
   "metadata": {},
   "source": [
    "## This Notebook contains the implementation of the researcher SubGraph\n",
    "\n",
    "This graph executes each step in the research plan by:\n",
    "* Generating a list of queries based on the current step.\n",
    "* Retrieving relevant documents in parallel for all queries.\n",
    "* Returning the documents to the retrieval graph for response generation."
   ]
  },
  {
   "cell_type": "code",
   "execution_count": 1,
   "id": "374ec342",
   "metadata": {},
   "outputs": [
    {
     "data": {
      "text/plain": [
       "True"
      ]
     },
     "execution_count": 1,
     "metadata": {},
     "output_type": "execute_result"
    }
   ],
   "source": [
    "import os\n",
    "from dotenv import  load_dotenv\n",
    "load_dotenv()"
   ]
  },
  {
   "cell_type": "code",
   "execution_count": 2,
   "id": "eb88b9ff",
   "metadata": {},
   "outputs": [
    {
     "name": "stdout",
     "output_type": "stream",
     "text": [
      "/Users/sumi/Desktop/skLearnF/Notebooks\n"
     ]
    }
   ],
   "source": [
    "!pwd"
   ]
  },
  {
   "cell_type": "code",
   "execution_count": 3,
   "id": "f3fa837f",
   "metadata": {},
   "outputs": [
    {
     "name": "stdout",
     "output_type": "stream",
     "text": [
      "/Users/sumi/Desktop/skLearnF\n"
     ]
    }
   ],
   "source": [
    "os.chdir('../')\n",
    "!pwd"
   ]
  },
  {
   "cell_type": "code",
   "execution_count": 4,
   "id": "de66821f",
   "metadata": {},
   "outputs": [],
   "source": [
    "os.environ[\"GEMINI_API_KEY\"] = os.getenv(\"GOOGLE_API_KEY\")\n"
   ]
  },
  {
   "cell_type": "code",
   "execution_count": 5,
   "id": "c157a515",
   "metadata": {},
   "outputs": [
    {
     "data": {
      "text/plain": [
       "AIMessage(content='Hi there! How can I help you today?', additional_kwargs={}, response_metadata={'prompt_feedback': {'block_reason': 0, 'safety_ratings': []}, 'finish_reason': 'STOP', 'model_name': 'gemini-2.0-flash', 'safety_ratings': []}, id='run-5dc843f7-4ab8-4332-ae3f-184bf8620d87-0', usage_metadata={'input_tokens': 2, 'output_tokens': 11, 'total_tokens': 13, 'input_token_details': {'cache_read': 0}})"
      ]
     },
     "execution_count": 5,
     "metadata": {},
     "output_type": "execute_result"
    }
   ],
   "source": [
    "from langchain_google_genai import ChatGoogleGenerativeAI\n",
    "from langchain_google_genai import GoogleGenerativeAIEmbeddings\n",
    "\n",
    "embeddings=GoogleGenerativeAIEmbeddings(model=\"models/text-embedding-004\")\n",
    "llm=ChatGoogleGenerativeAI(model=\"gemini-2.0-flash\")\n",
    "llm.invoke(\"Hi!\")"
   ]
  },
  {
   "cell_type": "markdown",
   "id": "43e73b3d",
   "metadata": {},
   "source": [
    "## 1. Define state schemas"
   ]
  },
  {
   "cell_type": "code",
   "execution_count": 6,
   "id": "62b30668",
   "metadata": {},
   "outputs": [],
   "source": [
    "from dataclasses import dataclass, field\n",
    "from typing import Annotated, Any, Literal, Optional, Union\n",
    "from langchain_core.documents import Document\n",
    "import uuid\n",
    "import hashlib\n",
    "\n",
    "def _generate_uuid(page_content: str) -> str:\n",
    "    \"\"\"Generate a UUID for a document based on page content.\"\"\"\n",
    "    md5_hash = hashlib.md5(page_content.encode()).hexdigest()\n",
    "    return str(uuid.UUID(md5_hash))\n",
    "\n",
    "\n",
    "def reduce_docs(\n",
    "    existing: Optional[list[Document]],\n",
    "    new: Union[\n",
    "        list[Document],\n",
    "        list[dict[str, Any]],\n",
    "        list[str],\n",
    "        str,\n",
    "        Literal[\"delete\"],\n",
    "    ],\n",
    ") -> list[Document]:\n",
    "    \"\"\"Reduce and process documents based on the input type.\n",
    "\n",
    "    This function handles various input types and converts them into a sequence of Document objects.\n",
    "    It can delete existing documents, create new ones from strings or dictionaries, or return the existing documents.\n",
    "    It also combines existing documents with the new one based on the document ID.\n",
    "\n",
    "    Args:\n",
    "        existing (Optional[Sequence[Document]]): The existing docs in the state, if any.\n",
    "        new (Union[Sequence[Document], Sequence[dict[str, Any]], Sequence[str], str, Literal[\"delete\"]]):\n",
    "            The new input to process. Can be a sequence of Documents, dictionaries, strings, a single string,\n",
    "            or the literal \"delete\".\n",
    "    \"\"\"\n",
    "    if new == \"delete\":\n",
    "        return []\n",
    "\n",
    "    existing_list = list(existing) if existing else []\n",
    "    if isinstance(new, str):\n",
    "        return existing_list + [\n",
    "            Document(page_content=new, metadata={\"uuid\": _generate_uuid(new)})\n",
    "        ]\n",
    "\n",
    "    new_list = []\n",
    "    if isinstance(new, list):\n",
    "        existing_ids = set(doc.metadata.get(\"uuid\") for doc in existing_list)\n",
    "        for item in new:\n",
    "            if isinstance(item, str):\n",
    "                item_id = _generate_uuid(item)\n",
    "                new_list.append(Document(page_content=item, metadata={\"uuid\": item_id}))\n",
    "                existing_ids.add(item_id)\n",
    "\n",
    "            elif isinstance(item, dict):\n",
    "                metadata = item.get(\"metadata\", {})\n",
    "                item_id = metadata.get(\"uuid\") or _generate_uuid(\n",
    "                    item.get(\"page_content\", \"\")\n",
    "                )\n",
    "\n",
    "                if item_id not in existing_ids:\n",
    "                    new_list.append(\n",
    "                        Document(**{**item, \"metadata\": {**metadata, \"uuid\": item_id}})\n",
    "                    )\n",
    "                    existing_ids.add(item_id)\n",
    "\n",
    "            elif isinstance(item, Document):\n",
    "                item_id = item.metadata.get(\"uuid\", \"\")\n",
    "                if not item_id:\n",
    "                    item_id = _generate_uuid(item.page_content)\n",
    "                    new_item = item.copy(deep=True)\n",
    "                    new_item.metadata[\"uuid\"] = item_id\n",
    "                else:\n",
    "                    new_item = item\n",
    "\n",
    "                if item_id not in existing_ids:\n",
    "                    new_list.append(new_item)\n",
    "                    existing_ids.add(item_id)\n",
    "\n",
    "    return existing_list + new_list"
   ]
  },
  {
   "cell_type": "code",
   "execution_count": 7,
   "id": "d6834f7a",
   "metadata": {},
   "outputs": [],
   "source": [
    "\n",
    "@dataclass(kw_only=True)\n",
    "class QueryState:\n",
    "    \"Private state for the retrieve_documents node in the researcher graph\"\n",
    "    query: str\n",
    "    \n",
    "  \n",
    "@dataclass(kw_only=True)\n",
    "class ResearcherState:\n",
    "    \"State of the researcher graph\"\n",
    "    question: str\n",
    "    queries: list[str]= field(default_factory=list) \n",
    "    documents: Annotated[list[Document], reduce_docs]=field(default_factory=list)\n",
    "    \n",
    " \n"
   ]
  },
  {
   "cell_type": "code",
   "execution_count": 8,
   "id": "898a6c33",
   "metadata": {},
   "outputs": [],
   "source": [
    "# Prompt for Researcher Graph\n",
    "GENERATE_QUERIES_SYSTEM_PROMPT = \"\"\"\\\n",
    "Generate 3 search queries to search for to answer the user's question. \\\n",
    "These search queries should be diverse in nature - do not generate \\\n",
    "repetitive ones.\"\"\""
   ]
  },
  {
   "cell_type": "code",
   "execution_count": 9,
   "id": "4dd7b36c",
   "metadata": {},
   "outputs": [],
   "source": [
    "from langchain_core.documents import Document\n",
    "from langchain_core.runnables import RunnableConfig\n",
    "from langgraph.graph import StateGraph, START, END\n",
    "from langgraph.types import Send\n",
    "from typing import TypedDict, cast\n",
    "\n",
    "\n",
    "# Genrate queries node\n",
    "async def generate_queries(\n",
    "    state: ResearcherState, *, config: RunnableConfig\n",
    "    )-> dict[str, list[str]]:\n",
    "    \"\"\"Generate search queries based on the question (a step in the research plan).\"\"\"\n",
    "    \n",
    "    class Response(TypedDict):\n",
    "        queries: list[str]\n",
    "        \n",
    "    model=llm.with_structured_output(Response)\n",
    "    messages=[\n",
    "        {\"role\": \"system\", \"content\": GENERATE_QUERIES_SYSTEM_PROMPT},\n",
    "        {\"role\": \"human\", \"content\": state.question},\n",
    "    ]\n",
    "    response= cast(Response, await model.ainvoke(messages))\n",
    "    return {\"queries\": response[\"queries\"]}\n",
    "\n",
    "\n",
    "    "
   ]
  },
  {
   "cell_type": "markdown",
   "id": "a948c788",
   "metadata": {},
   "source": [
    "## 2. Create retriever"
   ]
  },
  {
   "cell_type": "code",
   "execution_count": 10,
   "id": "35ad74ee",
   "metadata": {},
   "outputs": [],
   "source": [
    "from langchain_chroma import Chroma\n",
    "\n",
    "# Load the persisted directory\n",
    "db = Chroma(persist_directory=\"DATA/chroma_store\",\n",
    "            embedding_function=embeddings)\n",
    "\n",
    "# Convert it into a retriever\n",
    "retriever = db.as_retriever()\n",
    "\n"
   ]
  },
  {
   "cell_type": "code",
   "execution_count": 11,
   "id": "2bc42f0f",
   "metadata": {},
   "outputs": [
    {
     "name": "stdout",
     "output_type": "stream",
     "text": [
      "['f8dfb7fb-0254-4ad6-a5d7-21c437379a58', 'chroma.sqlite3']\n"
     ]
    }
   ],
   "source": [
    "import os\n",
    "print(os.listdir(\"DATA/chroma_store\"))\n"
   ]
  },
  {
   "cell_type": "code",
   "execution_count": 12,
   "id": "5127e3d4",
   "metadata": {},
   "outputs": [
    {
     "name": "stdout",
     "output_type": "stream",
     "text": [
      "28507\n"
     ]
    }
   ],
   "source": [
    "print(db._collection.count())  # Should return number of vectors stored\n"
   ]
  },
  {
   "cell_type": "code",
   "execution_count": 13,
   "id": "0107604d",
   "metadata": {},
   "outputs": [
    {
     "data": {
      "text/plain": [
       "[Document(id='05c689e2-53f0-4df1-bc83-478fe9525710', metadata={'description': 'Naive Bayes methods are a set of supervised learning algorithms based on applying Bayes’ theorem with the “naive” assumption of conditional independence between every pair of features given the val...', 'language': 'en', 'source': 'https://scikit-learn.org/stable/modules/naive_bayes.html', 'title': '1.9. Naive Bayes — scikit-learn 1.6.1 documentation'}, page_content='\\\\[P(x_i | y, x_1, \\\\dots, x_{i-1}, x_{i+1}, \\\\dots, x_n) = P(x_i | y),\\\\]\\nfor all \\\\(i\\\\), this relationship is simplified to\\n\\n\\\\[P(y \\\\mid x_1, \\\\dots, x_n) = \\\\frac{P(y) \\\\prod_{i=1}^{n} P(x_i \\\\mid y)}\\n                                 {P(x_1, \\\\dots, x_n)}\\\\]\\nSince \\\\(P(x_1, \\\\dots, x_n)\\\\) is constant given the input,\\nwe can use the following classification rule:'),\n",
       " Document(id='728e1625-25e3-4cdd-a952-f187d37eb79b', metadata={'description': 'Ensemble methods combine the predictions of several base estimators built with a given learning algorithm in order to improve generalizability / robustness over a single estimator. Two very famous ...', 'language': 'en', 'source': 'https://scikit-learn.org/stable/modules/ensemble.html', 'title': '1.11. Ensembles: Gradient boosting, random forests, bagging, voting, stacking — scikit-learn 1.6.1 documentation'}, page_content='Classification#\\nGradient boosting for classification is very similar to the regression case.\\nHowever, the sum of the trees \\\\(F_M(x_i) = \\\\sum_m h_m(x_i)\\\\) is not\\nhomogeneous to a prediction: it cannot be a class, since the trees predict\\ncontinuous values.\\nThe mapping from the value \\\\(F_M(x_i)\\\\) to a class or a probability is\\nloss-dependent. For the log-loss, the probability that\\n\\\\(x_i\\\\) belongs to the positive class is modeled as \\\\(p(y_i = 1 |\\nx_i) = \\\\sigma(F_M(x_i))\\\\) where \\\\(\\\\sigma\\\\) is the sigmoid or expit function.\\nFor multiclass classification, K trees (for K classes) are built at each of\\nthe \\\\(M\\\\) iterations. The probability that \\\\(x_i\\\\) belongs to class\\nk is modeled as a softmax of the \\\\(F_{M,k}(x_i)\\\\) values.\\nNote that even for a classification task, the \\\\(h_m\\\\) sub-estimator is\\nstill a regressor, not a classifier. This is because the sub-estimators are\\ntrained to predict (negative) gradients, which are always continuous\\nquantities.'),\n",
       " Document(id='08364ad5-6977-4db0-834a-5fe236a9a377', metadata={'description': 'This section of the user guide covers functionality related to multi-learning problems, including multiclass, multilabel, and multioutput classification and regression. The modules in this section ...', 'language': 'en', 'source': 'https://scikit-learn.org/stable/modules/multiclass.html', 'title': '1.12. Multiclass and multioutput algorithms — scikit-learn 1.6.1 documentation'}, page_content='1.12.2. Multilabel classification#\\nMultilabel classification (closely related to multioutput\\nclassification) is a classification task labeling each sample with m\\nlabels from n_classes possible classes, where m can be 0 to\\nn_classes inclusive. This can be thought of as predicting properties of a\\nsample that are not mutually exclusive. Formally, a binary output is assigned\\nto each class, for every sample. Positive classes are indicated with 1 and\\nnegative classes with 0 or -1. It is thus comparable to running n_classes\\nbinary classification tasks, for example with\\nMultiOutputClassifier. This approach treats\\neach label independently whereas multilabel classifiers may treat the\\nmultiple classes simultaneously, accounting for correlated behavior among\\nthem.\\nFor example, prediction of the topics relevant to a text document or video.\\nThe document or video may be about one of ‘religion’, ‘politics’, ‘finance’\\nor ‘education’, several of the topic classes or all of the topic classes.'),\n",
       " Document(id='239db3e5-f0da-4ac9-9c72-dad39935d9c6', metadata={'description': 'sklearn.neighbors provides functionality for unsupervised and supervised neighbors-based learning methods. Unsupervised nearest neighbors is the foundation of many other learning methods, notably m...', 'language': 'en', 'source': 'https://scikit-learn.org/stable/modules/neighbors.html', 'title': '1.6. Nearest Neighbors — scikit-learn 1.6.1 documentation'}, page_content='Examples\\n\\nNearest Neighbors Classification: an example of\\nclassification using nearest neighbors.')]"
      ]
     },
     "execution_count": 13,
     "metadata": {},
     "output_type": "execute_result"
    }
   ],
   "source": [
    "retriever.invoke(\"what is classification?\")"
   ]
  },
  {
   "cell_type": "code",
   "execution_count": 14,
   "id": "885d1a27",
   "metadata": {},
   "outputs": [
    {
     "name": "stdout",
     "output_type": "stream",
     "text": [
      "Number of documents in vectorstore: 28507\n"
     ]
    }
   ],
   "source": [
    "print(\"Number of documents in vectorstore:\", len(db.get()[\"documents\"]))\n"
   ]
  },
  {
   "cell_type": "code",
   "execution_count": 15,
   "id": "fbc260a1",
   "metadata": {},
   "outputs": [],
   "source": [
    "# retrieve documents node\n",
    "async def retrieve_documents(\n",
    "    state: QueryState, *, config: RunnableConfig\n",
    "    )-> dict[str, list[Document]]:\n",
    "    \"\"\"Retrieve documents based on a given query.\"\"\"\n",
    "    \n",
    "    response=await retriever.ainvoke(state.query,config)\n",
    "    return {\"documents\": response}"
   ]
  },
  {
   "cell_type": "code",
   "execution_count": 16,
   "id": "d0fd05c8",
   "metadata": {},
   "outputs": [],
   "source": [
    "# retrieve documents in parallel\n",
    "def retrieve_in_parallel(state: ResearcherState)-> list[Send]:\n",
    "    \"\"\"Create parallel retrieval tasks for each generated query.\"\"\"\n",
    "    return [\n",
    "        Send(\"retrieve_documents\", QueryState(query=query)) for query in state.queries\n",
    "    ]"
   ]
  },
  {
   "cell_type": "markdown",
   "id": "c29fc36a",
   "metadata": {},
   "source": [
    "## 3. Graph definition"
   ]
  },
  {
   "cell_type": "code",
   "execution_count": 17,
   "id": "44b1a024",
   "metadata": {},
   "outputs": [
    {
     "data": {
      "image/png": "[encoded data removed]",
      "text/plain": [
       "<langgraph.graph.state.CompiledStateGraph object at 0x1391ac340>"
      ]
     },
     "execution_count": 17,
     "metadata": {},
     "output_type": "execute_result"
    }
   ],
   "source": [
    "builder = StateGraph(ResearcherState)\n",
    "builder.add_node(generate_queries)\n",
    "builder.add_node(retrieve_documents)\n",
    "builder.add_edge(START, \"generate_queries\")\n",
    "builder.add_conditional_edges(\n",
    "    \"generate_queries\",\n",
    "    retrieve_in_parallel,  # type: ignore\n",
    "    path_map=[\"retrieve_documents\"],\n",
    ")\n",
    "builder.add_edge(\"retrieve_documents\", END)\n",
    "# Compile into a graph object that you can invoke and deploy.\n",
    "graph = builder.compile()\n",
    "graph.name = \"ResearcherGraph\"\n",
    "graph"
   ]
  },
  {
   "cell_type": "code",
   "execution_count": 20,
   "id": "a8ee09a2",
   "metadata": {},
   "outputs": [
    {
     "name": "stderr",
     "output_type": "stream",
     "text": [
      "/Users/sumi/miniforge3/envs/CDEnv/lib/python3.10/site-packages/langchain_google_genai/chat_models.py:1410: UserWarning: ChatGoogleGenerativeAI.with_structured_output with dict schema has changed recently to align with behavior of other LangChain chat models. More context: https://github.com/langchain-ai/langchain-google/pull/772\n",
      "  warnings.warn(\n",
      "/var/folders/vm/62zyvxyx70qb5rrghd3vfnx80000gn/T/ipykernel_49528/3679931618.py:69: PydanticDeprecatedSince20: The `copy` method is deprecated; use `model_copy` instead. See the docstring of `BaseModel.copy` for details about how to handle `include` and `exclude`. Deprecated in Pydantic V2.0 to be removed in V3.0. See Pydantic V2 Migration Guide at https://errors.pydantic.dev/2.11/migration/\n",
      "  new_item = item.copy(deep=True)\n"
     ]
    }
   ],
   "source": [
    "import asyncio\n",
    "\n",
    "state = ResearcherState(question=\"How to perform PCA on images?\")\n",
    "final_state = await graph.ainvoke(state)\n"
   ]
  },
  {
   "cell_type": "code",
   "execution_count": 21,
   "id": "864b1af0",
   "metadata": {},
   "outputs": [
    {
     "data": {
      "text/plain": [
       "{'question': 'How to perform PCA on images?',\n",
       " 'queries': ['PCA for image dimensionality reduction',\n",
       "  'image PCA implementation python',\n",
       "  'principal component analysis image processing'],\n",
       " 'documents': [Document(id='429140ec-8400-4b91-b78c-02deebac1e5f', metadata={'description': 'The dataset used in this example is a preprocessed excerpt of the “Labeled Faces in the Wild”, aka LFW: http://vis-www.cs.umass.edu/lfw/lfw-funneled.tgz(233MB) Download the data, if not already on ...', 'language': 'en', 'source': 'https://scikit-learn.org/stable/auto_examples/applications/plot_face_recognition.html', 'title': 'Faces recognition example using eigenfaces and SVMs — scikit-learn 1.6.1 documentation', 'uuid': '27390807-319c-2189-5dc8-90e18e9d0878'}, page_content='Compute a PCA (eigenfaces) on the face dataset (treated as unlabeled\\ndataset): unsupervised feature extraction / dimensionality reduction\\nn_components = 150\\n\\nprint(\\n    \"Extracting the top %d eigenfaces from %d faces\" % (n_components, X_train.shape[0])\\n)\\nt0 = time()\\npca = PCA(n_components=n_components, svd_solver=\"randomized\", whiten=True).fit(X_train)\\nprint(\"done in %0.3fs\" % (time() - t0))\\n\\neigenfaces = pca.components_.reshape((n_components, h, w))\\n\\nprint(\"Projecting the input data on the eigenfaces orthonormal basis\")\\nt0 = time()\\nX_train_pca = pca.transform(X_train)\\nX_test_pca = pca.transform(X_test)\\nprint(\"done in %0.3fs\" % (time() - t0))\\n\\n\\nExtracting the top 150 eigenfaces from 966 faces\\ndone in 0.098s\\nProjecting the input data on the eigenfaces orthonormal basis\\ndone in 0.006s'),\n",
       "  Document(id='94dc79ca-5c1d-4154-8a86-eb93573ece79', metadata={'description': 'This example shows how to use KernelPCA to denoise images. In short, we take advantage of the approximation function learned during fit to reconstruct the original image. We will compare the result...', 'language': 'en', 'source': 'https://scikit-learn.org/stable/auto_examples/applications/plot_digits_denoising.html', 'title': 'Image denoising using kernel PCA — scikit-learn 1.6.1 documentation', 'uuid': '25cd967b-6b41-d206-7729-bdd57d514b93'}, page_content='Download Python source code: plot_digits_denoising.py\\n\\n\\nDownload zipped: plot_digits_denoising.zip\\n\\n\\nRelated examples\\n\\nFeature agglomeration\\nFeature agglomeration\\n\\nKernel PCA\\nKernel PCA\\n\\nRecognizing hand-written digits\\nRecognizing hand-written digits\\n\\nOnline learning of a dictionary of parts of faces\\nOnline learning of a dictionary of parts of faces\\nGallery generated by Sphinx-Gallery\\n\\n\\n\\n\\n\\n\\n\\n\\n\\n\\nprevious\\nFaces recognition example using eigenfaces and SVMs\\n\\n\\n\\n\\nnext\\nLagged features for time series forecasting\\n\\n\\n\\n\\n\\n\\n\\n\\n\\n\\n\\n On this page\\n  \\n\\n\\nLoad the dataset via OpenML\\nLearn the PCA basis\\nReconstruct and denoise test images\\n\\n\\n\\n\\nThis Page\\n\\nShow Source\\n\\n\\n\\n\\n\\n\\n\\n            Download source code\\n          \\n\\n\\n\\n\\n            Download Jupyter notebook\\n          \\n\\n\\n\\n\\n            Download zipped\\n          \\n\\n\\n\\n\\n\\n\\n\\n\\n\\n\\n\\n\\n\\n\\n\\n\\n\\n\\n\\n\\n\\n\\n\\n\\n\\n\\n\\n\\n\\n\\n\\n\\n    \\n      © Copyright 2007 - 2025, scikit-learn developers (BSD License).'),\n",
       "  Document(id='ec2863c5-925e-418c-86e6-8d82e94896b1', metadata={'description': 'Feature scaling through standardization, also called Z-score normalization, is an important preprocessing step for many machine learning algorithms. It involves rescaling each feature such that it ...', 'language': 'en', 'source': 'https://scikit-learn.org/stable/auto_examples/preprocessing/plot_scaling_importance.html', 'title': 'Importance of Feature Scaling — scikit-learn 1.6.1 documentation', 'uuid': '4edf5579-e8c0-5f0f-d870-b227809a9c7e'}, page_content='is impacted by normalization of features. To illustrate this, we compare the\\nprincipal components found using PCA on unscaled\\ndata with those obtained when using a\\nStandardScaler to scale data first.\\nIn the last part of the example we show the effect of the normalization on the\\naccuracy of a model trained on PCA-reduced data.\\n# Authors: The scikit-learn developers\\n# SPDX-License-Identifier: BSD-3-Clause'),\n",
       "  Document(id='e3787391-f018-4d69-a3ca-7fd3252302fe', metadata={'description': 'Incremental principal component analysis (IPCA) is typically used as a replacement for principal component analysis (PCA) when the dataset to be decomposed is too large to fit in memory. IPCA build...', 'language': 'en', 'source': 'https://scikit-learn.org/stable/auto_examples/decomposition/plot_incremental_pca.html', 'title': 'Incremental PCA — scikit-learn 1.6.1 documentation', 'uuid': 'f5a09d06-f021-56c7-0f62-da2f373cdc8a'}, page_content='Examples\\nDecomposition\\nIncremental PCA\\n\\n\\n\\n\\n\\n\\n\\n\\n\\nNote\\nGo to the end\\nto download the full example code. or to run this example in your browser via JupyterLite or Binder\\n\\n\\nIncremental PCA#\\nIncremental principal component analysis (IPCA) is typically used as a\\nreplacement for principal component analysis (PCA) when the dataset to be\\ndecomposed is too large to fit in memory. IPCA builds a low-rank approximation\\nfor the input data using an amount of memory which is independent of the\\nnumber of input data samples. It is still dependent on the input data features,\\nbut changing the batch size allows for control of memory usage.\\nThis example serves as a visual check that IPCA is able to find a similar\\nprojection of the data to PCA (to a sign flip), while only processing a\\nfew samples at a time. This can be considered a “toy example”, as IPCA is\\nintended for large datasets which do not fit in main memory, requiring\\nincremental approaches.'),\n",
       "  Document(id='bb2565b3-c2b3-497c-a74c-ccf1a3dca2db', metadata={'description': 'Gallery examples: A demo of K-Means clustering on the handwritten digits data Adjustment for chance in clustering performance evaluation Demo of DBSCAN clustering algorithm Demo of affinity propaga...', 'language': 'en', 'source': 'https://scikit-learn.org/stable/modules/generated/sklearn.metrics.adjusted_mutual_info_score.html', 'title': 'adjusted_mutual_info_score — scikit-learn 1.6.1 documentation', 'uuid': 'e5b97ffc-7012-d39c-3b13-5b7ddb407de3'}, page_content='sklearn.decomposition\\nDictionaryLearning\\nFactorAnalysis\\nFastICA\\nIncrementalPCA\\nKernelPCA\\nLatentDirichletAllocation\\nMiniBatchDictionaryLearning\\nMiniBatchNMF\\nMiniBatchSparsePCA\\nNMF\\nPCA\\nSparseCoder\\nSparsePCA\\nTruncatedSVD\\ndict_learning\\ndict_learning_online\\nfastica\\nnon_negative_factorization\\nsparse_encode\\n\\n\\nsklearn.discriminant_analysis\\nLinearDiscriminantAnalysis\\nQuadraticDiscriminantAnalysis\\n\\n\\nsklearn.dummy\\nDummyClassifier\\nDummyRegressor\\n\\n\\nsklearn.ensemble\\nAdaBoostClassifier\\nAdaBoostRegressor\\nBaggingClassifier\\nBaggingRegressor\\nExtraTreesClassifier\\nExtraTreesRegressor\\nGradientBoostingClassifier\\nGradientBoostingRegressor\\nHistGradientBoostingClassifier\\nHistGradientBoostingRegressor\\nIsolationForest\\nRandomForestClassifier\\nRandomForestRegressor\\nRandomTreesEmbedding\\nStackingClassifier\\nStackingRegressor\\nVotingClassifier\\nVotingRegressor'),\n",
       "  Document(id='3ccedca9-725f-4e06-980c-bc0c8708b84b', metadata={'description': 'Clustering can be expensive, especially when our dataset contains millions of datapoints. Many clustering algorithms are not inductive and so cannot be directly applied to new data samples without ...', 'language': 'en', 'source': 'https://scikit-learn.org/stable/auto_examples/cluster/plot_inductive_clustering.html', 'title': 'Inductive Clustering — scikit-learn 1.6.1 documentation', 'uuid': '82aed179-b672-2740-7cc9-25bd3aafab65'}, page_content='Decomposition\\nBlind source separation using FastICA\\nComparison of LDA and PCA 2D projection of Iris dataset\\nFaces dataset decompositions\\nFactor Analysis (with rotation) to visualize patterns\\nFastICA on 2D point clouds\\nImage denoising using dictionary learning\\nIncremental PCA\\nKernel PCA\\nModel selection with Probabilistic PCA and Factor Analysis (FA)\\nPrincipal Component Analysis (PCA) on Iris Dataset\\nSparse coding with a precomputed dictionary\\n\\n\\nDeveloping Estimators\\n__sklearn_is_fitted__ as Developer API')]}"
      ]
     },
     "execution_count": 21,
     "metadata": {},
     "output_type": "execute_result"
    }
   ],
   "source": [
    "final_state"
   ]
  },
  {
   "cell_type": "code",
   "execution_count": null,
   "id": "6c30e0e8",
   "metadata": {},
   "outputs": [],
   "source": []
  }
 ],
 "metadata": {
  "kernelspec": {
   "display_name": "CDEnv",
   "language": "python",
   "name": "python3"
  },
  "language_info": {
   "codemirror_mode": {
    "name": "ipython",
    "version": 3
   },
   "file_extension": ".py",
   "mimetype": "text/x-python",
   "name": "python",
   "nbconvert_exporter": "python",
   "pygments_lexer": "ipython3",
   "version": "3.11.12"
  }
 },
 "nbformat": 4,
 "nbformat_minor": 5
}
